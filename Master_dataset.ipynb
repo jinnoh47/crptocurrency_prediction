{
 "cells": [
  {
   "cell_type": "code",
   "execution_count": 1,
   "metadata": {},
   "outputs": [],
   "source": [
    "import pandas as pd\n",
    "import numpy as np\n",
    "import matplotlib\n",
    "from matplotlib import pylab as plt\n",
    "import os\n",
    "import ta\n",
    "import datetime as dt"
   ]
  },
  {
   "cell_type": "code",
   "execution_count": 55,
   "metadata": {},
   "outputs": [],
   "source": [
    "df1 = pd.read_csv(\"data/binance_data.csv\")\n",
    "df2 = pd.read_csv(\"data/coinbase_data.csv\")\n"
   ]
  },
  {
   "cell_type": "code",
   "execution_count": 56,
   "metadata": {},
   "outputs": [
    {
     "data": {
      "text/html": [
       "<div>\n",
       "<style scoped>\n",
       "    .dataframe tbody tr th:only-of-type {\n",
       "        vertical-align: middle;\n",
       "    }\n",
       "\n",
       "    .dataframe tbody tr th {\n",
       "        vertical-align: top;\n",
       "    }\n",
       "\n",
       "    .dataframe thead th {\n",
       "        text-align: right;\n",
       "    }\n",
       "</style>\n",
       "<table border=\"1\" class=\"dataframe\">\n",
       "  <thead>\n",
       "    <tr style=\"text-align: right;\">\n",
       "      <th></th>\n",
       "      <th>Unnamed: 0</th>\n",
       "      <th>datetime</th>\n",
       "      <th>open</th>\n",
       "      <th>high</th>\n",
       "      <th>low</th>\n",
       "      <th>close</th>\n",
       "      <th>volume</th>\n",
       "      <th>symbol</th>\n",
       "    </tr>\n",
       "  </thead>\n",
       "  <tbody>\n",
       "    <tr>\n",
       "      <th>0</th>\n",
       "      <td>2022-01-01 00:00:00</td>\n",
       "      <td>2022-01-01 00:00:00</td>\n",
       "      <td>46709.76</td>\n",
       "      <td>47535.43</td>\n",
       "      <td>46680.58</td>\n",
       "      <td>47197.66</td>\n",
       "      <td>2.29999</td>\n",
       "      <td>BTCTUSD</td>\n",
       "    </tr>\n",
       "    <tr>\n",
       "      <th>1</th>\n",
       "      <td>2022-01-01 01:00:00</td>\n",
       "      <td>2022-01-01 01:00:00</td>\n",
       "      <td>47159.20</td>\n",
       "      <td>47314.60</td>\n",
       "      <td>46968.65</td>\n",
       "      <td>46968.65</td>\n",
       "      <td>2.24871</td>\n",
       "      <td>BTCTUSD</td>\n",
       "    </tr>\n",
       "    <tr>\n",
       "      <th>2</th>\n",
       "      <td>2022-01-01 02:00:00</td>\n",
       "      <td>2022-01-01 02:00:00</td>\n",
       "      <td>47016.82</td>\n",
       "      <td>47172.69</td>\n",
       "      <td>46919.68</td>\n",
       "      <td>47145.35</td>\n",
       "      <td>5.19031</td>\n",
       "      <td>BTCTUSD</td>\n",
       "    </tr>\n",
       "    <tr>\n",
       "      <th>3</th>\n",
       "      <td>2022-01-01 03:00:00</td>\n",
       "      <td>2022-01-01 03:00:00</td>\n",
       "      <td>47210.38</td>\n",
       "      <td>47295.53</td>\n",
       "      <td>47087.27</td>\n",
       "      <td>47106.93</td>\n",
       "      <td>3.71817</td>\n",
       "      <td>BTCTUSD</td>\n",
       "    </tr>\n",
       "    <tr>\n",
       "      <th>4</th>\n",
       "      <td>2022-01-01 04:00:00</td>\n",
       "      <td>2022-01-01 04:00:00</td>\n",
       "      <td>47095.05</td>\n",
       "      <td>47225.42</td>\n",
       "      <td>46946.06</td>\n",
       "      <td>47110.25</td>\n",
       "      <td>3.07901</td>\n",
       "      <td>BTCTUSD</td>\n",
       "    </tr>\n",
       "  </tbody>\n",
       "</table>\n",
       "</div>"
      ],
      "text/plain": [
       "            Unnamed: 0             datetime      open      high       low  \\\n",
       "0  2022-01-01 00:00:00  2022-01-01 00:00:00  46709.76  47535.43  46680.58   \n",
       "1  2022-01-01 01:00:00  2022-01-01 01:00:00  47159.20  47314.60  46968.65   \n",
       "2  2022-01-01 02:00:00  2022-01-01 02:00:00  47016.82  47172.69  46919.68   \n",
       "3  2022-01-01 03:00:00  2022-01-01 03:00:00  47210.38  47295.53  47087.27   \n",
       "4  2022-01-01 04:00:00  2022-01-01 04:00:00  47095.05  47225.42  46946.06   \n",
       "\n",
       "      close   volume   symbol  \n",
       "0  47197.66  2.29999  BTCTUSD  \n",
       "1  46968.65  2.24871  BTCTUSD  \n",
       "2  47145.35  5.19031  BTCTUSD  \n",
       "3  47106.93  3.71817  BTCTUSD  \n",
       "4  47110.25  3.07901  BTCTUSD  "
      ]
     },
     "execution_count": 56,
     "metadata": {},
     "output_type": "execute_result"
    }
   ],
   "source": [
    "\n",
    "df1['datetime'] = df1['datetime']- 18000000\n",
    "df1['datetime'] = pd.to_datetime(df1['datetime'], unit = 'ms')\n",
    "df1['datetime'] = df1['datetime'].dt.strftime('%Y-%m-%d %H:%M:%S')\n",
    "df1.head()"
   ]
  },
  {
   "cell_type": "code",
   "execution_count": 42,
   "metadata": {},
   "outputs": [
    {
     "data": {
      "text/html": [
       "<div>\n",
       "<style scoped>\n",
       "    .dataframe tbody tr th:only-of-type {\n",
       "        vertical-align: middle;\n",
       "    }\n",
       "\n",
       "    .dataframe tbody tr th {\n",
       "        vertical-align: top;\n",
       "    }\n",
       "\n",
       "    .dataframe thead th {\n",
       "        text-align: right;\n",
       "    }\n",
       "</style>\n",
       "<table border=\"1\" class=\"dataframe\">\n",
       "  <thead>\n",
       "    <tr style=\"text-align: right;\">\n",
       "      <th></th>\n",
       "      <th>time</th>\n",
       "      <th>low</th>\n",
       "      <th>high</th>\n",
       "      <th>open</th>\n",
       "      <th>close</th>\n",
       "      <th>volume</th>\n",
       "      <th>id</th>\n",
       "    </tr>\n",
       "  </thead>\n",
       "  <tbody>\n",
       "    <tr>\n",
       "      <th>0</th>\n",
       "      <td>2022-01-01 00:00:00</td>\n",
       "      <td>0.4162</td>\n",
       "      <td>0.4204</td>\n",
       "      <td>0.4166</td>\n",
       "      <td>0.4192</td>\n",
       "      <td>26337.3</td>\n",
       "      <td>POWR-USD</td>\n",
       "    </tr>\n",
       "    <tr>\n",
       "      <th>1</th>\n",
       "      <td>2022-01-01 01:00:00</td>\n",
       "      <td>0.4192</td>\n",
       "      <td>0.4250</td>\n",
       "      <td>0.4199</td>\n",
       "      <td>0.4211</td>\n",
       "      <td>56980.8</td>\n",
       "      <td>POWR-USD</td>\n",
       "    </tr>\n",
       "    <tr>\n",
       "      <th>2</th>\n",
       "      <td>2022-01-01 02:00:00</td>\n",
       "      <td>0.4186</td>\n",
       "      <td>0.4229</td>\n",
       "      <td>0.4211</td>\n",
       "      <td>0.4186</td>\n",
       "      <td>27973.3</td>\n",
       "      <td>POWR-USD</td>\n",
       "    </tr>\n",
       "    <tr>\n",
       "      <th>3</th>\n",
       "      <td>2022-01-01 03:00:00</td>\n",
       "      <td>0.4185</td>\n",
       "      <td>0.4204</td>\n",
       "      <td>0.4189</td>\n",
       "      <td>0.4186</td>\n",
       "      <td>26386.4</td>\n",
       "      <td>POWR-USD</td>\n",
       "    </tr>\n",
       "    <tr>\n",
       "      <th>4</th>\n",
       "      <td>2022-01-01 04:00:00</td>\n",
       "      <td>0.4173</td>\n",
       "      <td>0.4197</td>\n",
       "      <td>0.4194</td>\n",
       "      <td>0.4183</td>\n",
       "      <td>16900.1</td>\n",
       "      <td>POWR-USD</td>\n",
       "    </tr>\n",
       "  </tbody>\n",
       "</table>\n",
       "</div>"
      ],
      "text/plain": [
       "                  time     low    high    open   close   volume        id\n",
       "0  2022-01-01 00:00:00  0.4162  0.4204  0.4166  0.4192  26337.3  POWR-USD\n",
       "1  2022-01-01 01:00:00  0.4192  0.4250  0.4199  0.4211  56980.8  POWR-USD\n",
       "2  2022-01-01 02:00:00  0.4186  0.4229  0.4211  0.4186  27973.3  POWR-USD\n",
       "3  2022-01-01 03:00:00  0.4185  0.4204  0.4189  0.4186  26386.4  POWR-USD\n",
       "4  2022-01-01 04:00:00  0.4173  0.4197  0.4194  0.4183  16900.1  POWR-USD"
      ]
     },
     "execution_count": 42,
     "metadata": {},
     "output_type": "execute_result"
    }
   ],
   "source": [
    "df2.head()"
   ]
  },
  {
   "cell_type": "code",
   "execution_count": 32,
   "metadata": {},
   "outputs": [
    {
     "name": "stdout",
     "output_type": "stream",
     "text": [
      "33 tickers with missing rows\n",
      "285\n"
     ]
    }
   ],
   "source": [
    "# Look at rows per ticker\n",
    "print(\"33 tickers with missing rows\")\n",
    "new_ticker_list = np.array((df1.groupby('symbol').size().sort_values()).index[33:])\n",
    "print(len(new_ticker_list))"
   ]
  },
  {
   "cell_type": "code",
   "execution_count": 39,
   "metadata": {},
   "outputs": [
    {
     "name": "stdout",
     "output_type": "stream",
     "text": [
      "33 tickers with missing rows\n",
      "[3637 3637 3637 3637 3637 3637 3637 3637 3637 3637 3637 3637 3637 3637\n",
      " 3637 3637 3637 3637 3637 3637 3637 3637 3637 3637 3637 3637 3637 3637\n",
      " 3637 3637 3637 3637 3637 3637 3637 3637 3637 3637 3637 3637 3637 3637\n",
      " 3637 3637 3637 3637 3637 3637 3637 3637 3637 3637 3637 3637 3637 3637\n",
      " 3637 3637 3637 3637 3637 3637 3637 3637 3637 3637 3637 3637 3637 3637\n",
      " 3637 3637 3637 3637 3637 3637 3637 3637 3637 3637 3637 3637 3637 3637\n",
      " 3637 3637 3637 3637 3637 3637 3637 3637 3637 3637 3637 3637 3637 3637\n",
      " 3637 3637 3637 3637 3637 3637 3637 3637 3637 3637 3637 3637 3637 3637\n",
      " 3637 3637 3637 3637 3637 3637 3637 3637 3637 3637 3637 3637 3637 3637\n",
      " 3637 3637 3637 3637 3637 3637 3637 3637 3637 3637 3637 3637 3637 3637\n",
      " 3637 3637 3637 3637 3637 3637 3637 3637 3637 3637 3637 3637 3637 3637\n",
      " 3637 3637]\n",
      "156\n"
     ]
    }
   ],
   "source": [
    "# Look at rows per ticker\n",
    "print(\"33 tickers with missing rows\")\n",
    "very_new_ticker_list = np.array((df2.groupby('id').size().sort_values()).values[318:])\n",
    "print(very_new_ticker_list)\n",
    "print(len(very_new_ticker_list))"
   ]
  },
  {
   "cell_type": "code",
   "execution_count": 29,
   "metadata": {},
   "outputs": [
    {
     "name": "stdout",
     "output_type": "stream",
     "text": [
      "792\n",
      "[3624 3624 3624 3624 3624 3624 3624 3624 3624 3624 3624 3624 3624 3624\n",
      " 3624 3624 3624 3624 3624 3624 3624 3624 3624 3624 3624 3624 3624 3624\n",
      " 3624 3624 3624 3624 3624 3624 3624 3624 3624 3624 3624 3624 3624 3624\n",
      " 3624 3624 3624 3624 3624 3624 3624 3624 3624 3624 3624 3624 3624 3624\n",
      " 3624 3624 3624 3624 3624 3624 3624 3624 3624 3624 3624 3624 3624 3624\n",
      " 3624 3624 3624 3624 3624 3624 3624 3624 3624 3624 3624 3624 3624 3624\n",
      " 3624 3624 3624 3624 3624 3624 3624 3624 3624 3624 3624 3624 3624 3624\n",
      " 3624 3624 3624 3624 3624 3624 3624 3624 3624 3624 3624 3624 3624 3624\n",
      " 3624 3624 3624 3624 3625 3625 3625 3625 3625 3625 3625 3625 3625 3625\n",
      " 3625 3625 3625 3625 3625 3625 3625 3625 3625 3625 3625 3625 3625 3625\n",
      " 3625 3625 3625 3625 3625 3625 3625 3625 3625 3625 3625 3625 3625 3625\n",
      " 3625 3625 3625 3625 3625 3625 3625 3625 3625 3625 3625 3625 3625 3625\n",
      " 3625 3625 3625 3625 3625 3625 3625 3625 3625 3625 3625 3625 3625 3625\n",
      " 3625 3625 3625 3625 3625 3625 3625 3625 3625 3625 3625 3625 3625 3625\n",
      " 3625 3625 3625 3625 3625 3625 3625 3625 3625 3625 3625 3625 3625 3625\n",
      " 3625 3625 3625 3625 3625 3625 3625 3625 3625 3625 3625 3625 3625 3625\n",
      " 3625 3625 3625 3625 3625 3625 3625 3625 3625 3625 3625 3625 3625 3625\n",
      " 3625 3625 3625 3625 3625 3625 3625 3625 3625 3625 3625 3625 3625 3625\n",
      " 3625 3625 3625 3625 3625 3625 3625 3625 3625 3625 3625 3625 3625 3625\n",
      " 3625 3625 3625 3625 3625 3625 3625 3625 3625 3625 3625 3625 3625 3625\n",
      " 3625 3625 3625 3625 3625 3625 3625 3625 3625 3625 3625 3625]\n"
     ]
    }
   ],
   "source": [
    "# Look at rows per ticker\n",
    "new_ticker_list = np.array((df3.groupby('symbol').size().sort_values()).index[33:])\n",
    "print(len(np.array((df3.groupby('symbol').size().sort_values()).values)))\n",
    "print(np.array((df3.groupby('symbol').size().sort_values()).values)[500:])"
   ]
  },
  {
   "cell_type": "code",
   "execution_count": 66,
   "metadata": {},
   "outputs": [
    {
     "name": "stdout",
     "output_type": "stream",
     "text": [
      "['2022-01-01 00:00:00' '2022-01-01 01:00:00' '2022-01-01 02:00:00' ...\n",
      " '2022-05-31 22:00:00' '2022-05-31 23:00:00' '2022-06-01 00:00:00']\n",
      "['2022-01-01 00:00:00' '2022-01-01 01:00:00' '2022-01-01 02:00:00' ...\n",
      " '2022-05-31 21:00:00' '2022-05-31 22:00:00' '2022-05-31 23:00:00']\n",
      "{'2022-06-01 00:00:00'}\n"
     ]
    }
   ],
   "source": [
    "coinbase_unique_times = np.unique(np.array(df2['time']))\n",
    "print(coinbase_unique_times)\n",
    "binance_unique_times = np.unique(np.array(df1['datetime']))\n",
    "print(binance_unique_times)\n",
    "\n",
    "coinbasenotbinance = set(coinbase_unique_times).difference(binance_unique_times)\n",
    "print(coinbasenotbinance)"
   ]
  },
  {
   "cell_type": "code",
   "execution_count": 68,
   "metadata": {},
   "outputs": [],
   "source": [
    "for banana in coinbasenotbinance:\n",
    "    apple = banana"
   ]
  },
  {
   "cell_type": "code",
   "execution_count": 70,
   "metadata": {},
   "outputs": [
    {
     "name": "stdout",
     "output_type": "stream",
     "text": [
      "set()\n"
     ]
    }
   ],
   "source": [
    "df3 = pd.read_csv(\"data/combined_crypto.csv\")\n",
    "df3 = df3[df3.datetime != apple]\n",
    "df3_unique_times = np.unique(np.array(df3['datetime']))\n",
    "print(set(df3_unique_times).difference(binance_unique_times))"
   ]
  },
  {
   "cell_type": "code",
   "execution_count": 75,
   "metadata": {},
   "outputs": [
    {
     "name": "stdout",
     "output_type": "stream",
     "text": [
      "33 tickers with missing rows\n",
      "['WBTCUSD' 'POLYBUSD' 'VIDTBUSD' 'PEOPLEBUSD' 'VOXELBUSD' 'XLMBUSD'\n",
      " 'POLSBUSD' 'PERPBUSD' 'WAVESBUSD' 'XLMBTC' 'XECBUSD' 'PLAUSD' 'PONDBUSD'\n",
      " 'WRXBUSD' 'PLABUSD' 'VETBUSD' 'SNXUSD' 'PERPUSD' 'WINGBUSD' 'WINBUSD'\n",
      " 'VGXUSD' 'XLMUSD' 'POLYUSD' 'PHABUSD' 'WAXPBUSD' 'XTZBTC' 'XMRBUSD'\n",
      " 'YGGBUSD' 'ZECBUSD' 'SKLEUR' 'ZECUSD' 'OMBUSD' 'OGNUSD' 'SNXBUSD'\n",
      " 'YFIUSD' 'SKLUSD' 'OGNBUSD' 'SLPBUSD' 'ZILBUSD' 'ZRXBTC' 'OCEANBUSD'\n",
      " 'NUUSD' 'ZRXBUSD' 'ZENBUSD' 'SKLBUSD' 'OMGBUSD' 'YFIBUSD' 'XRPBUSD'\n",
      " 'OXTUSD' 'OXTBUSD' 'XRPTUSD' 'ORNUSD' 'UTKBUSD' 'ORNBUSD' 'XTZBUSD'\n",
      " 'XTZUSD' 'XVGBUSD' 'XVSBUSD' 'XYOUSD' 'OOKIBUSD' 'ONTBUSD' 'ONEBUSD'\n",
      " 'OMGUSD' 'YFIBTC' 'SHIBUSD' 'SOLBTC' 'SPELLUSD' 'USDTUSDC' 'SUSHIBTC'\n",
      " 'SUSHIBUSD' 'SUSHIUSD' 'SXPBUSD' 'RLCUSD' 'SYSBUSD' 'SCRTBUSD'\n",
      " 'THETABUSD' 'TKOBUSD' 'TLMBUSD' 'REQUSD' 'TOMOBUSD' 'TORNBUSD' 'TRACUSD'\n",
      " 'REQBUSD' 'TRBBUSD' 'RENUSD' 'SOLGBP' 'SUPERBUSD' 'SCBUSD' 'SUNBUSD'\n",
      " 'SOLUSDT' 'SRMBUSD' 'SANDBUSD' 'RVNBUSD' 'SOLUSD' 'RUNEBUSD' 'STMXBUSD'\n",
      " 'RSRBUSD' 'RENBUSD' 'STORJBTC' 'ROSEBUSD' 'STORJUSD' 'STPTBUSD'\n",
      " 'RNDRBUSD' 'STRAXBUSD' 'RLYUSD' 'STXBUSD' 'SUKUUSD' 'STORJBUSD'\n",
      " 'SHIBBUSD' 'TRIBEBUSD' 'RBNUSD' 'QNTBUSD' 'QIBUSD' 'UNFIBUSD' 'PYRBUSD'\n",
      " 'UNIBTC' 'UNIBUSD' 'PSGBUSD' 'UNIUSD' 'USDCBUSD' 'SPELLBUSD' 'PROMBUSD'\n",
      " 'USDPBUSD' 'POWRUSD' 'USDTEUR' 'SOLBUSD' 'POWRBUSD' 'USDTUSD' 'QNTUSD'\n",
      " 'UMAUSD' 'SNXBTC' 'UFTBUSD' 'RAYBUSD' 'RARIUSD' 'SFPBUSD' 'RAREBUSD'\n",
      " 'TROYBUSD' 'RAMPBUSD' 'SOLEUR' 'TRUUSD' 'REEFBUSD' 'RADUSD' 'TRXTUSD'\n",
      " 'TUSDBUSD' 'RADBUSD' 'TVKBUSD' 'QUICKUSD' 'QUICKBUSD' 'QTUMBUSD'\n",
      " 'TWTBUSD' 'TRXBUSD' 'USDCEUR' 'KLAYBUSD' 'NUBTC' 'CKBBUSD' 'CITYBUSD'\n",
      " 'CHZUSD' 'CHZBUSD' 'CHRBUSD' 'CHESSBUSD' 'CGLDUSD' 'CFXBUSD' 'CELRBUSD'\n",
      " 'CELOBUSD' 'CAKEBUSD' 'C98BUSD' 'BURGERBUSD' 'BTGBUSD' 'BTCUSDT'\n",
      " 'BTCUSDC' 'BTCUSD' 'BICOUSD' 'BIFIBUSD' 'BLZUSD' 'BNBBUSD' 'BNBTUSD'\n",
      " 'BNTBUSD' 'CLVBUSD' 'BNXBUSD' 'BONDUSD' 'BTCBUSD' 'BTCEUR' 'BTCGBP'\n",
      " 'BTCSTBUSD' 'BTCTUSD' 'BONDBUSD' 'CLVUSD' 'COCOSBUSD' 'COMPBUSD'\n",
      " 'DASHBUSD' 'DASHUSD' 'DATABUSD' 'DEGOBUSD' 'DENTBUSD' 'DESOUSD' 'DASHBTC'\n",
      " 'DEXEBUSD' 'DGBBUSD' 'DIABUSD' 'DNTBUSD' 'DOCKBUSD' 'DODOBUSD' 'DOGEBUSD'\n",
      " 'DFBUSD' 'BICOBUSD' 'DARBUSD' 'CVPBUSD' 'COMPUSD' 'COSBUSD' 'COTIBUSD'\n",
      " 'COTIUSD' 'COVALUSD' 'CREAMBUSD' 'CVXBUSD' 'CROUSD' 'CRVUSD' 'CTKBUSD'\n",
      " 'CTSIBUSD' 'CTSIUSD' 'CTXCBUSD' 'CVCUSD' 'CRVBUSD' 'BETABUSD' 'BELBUSD'\n",
      " 'BCHUSD' 'ALCXUSD' 'ALGOBTC' 'ALGOBUSD' 'ALGOEUR' 'ALGOUSD' 'ALICEBUSD'\n",
      " 'ALCXBUSD' 'ALPACABUSD' 'AMPBUSD' 'AMPUSD' 'ANKRBUSD' 'ANKRUSD' 'ANTBUSD'\n",
      " 'API3USD' 'ALPHABUSD' 'ARBUSD' 'AGLDUSD' 'AERGOBUSD' '1INCHBUSD'\n",
      " '1INCHUSD' 'AAVEBTC' 'AAVEBUSD' 'AAVEUSD' 'ACHUSD' 'AGLDBUSD' 'ACMBUSD'\n",
      " 'ADABUSD' 'ADAEUR' 'ADAGBP' 'ADATUSD' 'ADAUSD' 'ADXBUSD' 'ADABTC'\n",
      " 'DOGEEUR' 'ARPABUSD' 'ASMUSD' 'AXSUSD' 'BADGERBUSD' 'BADGERUSD'\n",
      " 'BAKEBUSD' 'BALBUSD' 'BALUSD' 'AXSBUSD' 'BANDBUSD' 'BARBUSD' 'BATBUSD'\n",
      " 'BATUSD' 'BCHBTC' 'BCHBUSD' 'BCHEUR' 'BANDUSD' 'ARPAUSD' 'AXSBTC'\n",
      " 'AVAXUSD' 'ATABUSD' 'ATMBUSD' 'ATOMBTC' 'ATOMBUSD' 'ATOMUSD'\n",
      " 'AUCTIONBUSD' 'AVAXUSDT' 'AUCTIONUSD' 'AUDIOBUSD' 'AUTOBUSD' 'AVABUSD'\n",
      " 'AVAXBTC' 'AVAXBUSD' 'AVAXEUR' 'AUDBUSD' 'DOGEUSD' 'DOTBTC' 'DOTBUSD'\n",
      " 'KRLUSD' 'KSMBUSD' 'LAZIOBUSD' 'LCXUSD' 'LINABUSD' 'LINKBTC' 'KP3RBUSD'\n",
      " 'LINKBUSD' 'LINKUSD' 'LITBUSD' 'LPTBUSD' 'LPTUSD' 'LRCBUSD' 'LRCUSD'\n",
      " 'LINKEUR' 'LSKBUSD' 'KNCUSD' 'KEEPUSD' 'ILVBUSD' 'IMXUSD' 'INJBUSD'\n",
      " 'IOSTBUSD' 'IOTABUSD' 'IOTXBUSD' 'KNCBUSD' 'IOTXUSD' 'JASMYBUSD'\n",
      " 'JASMYUSD' 'JOEBUSD' 'JSTBUSD' 'JUVBUSD' 'KAVABUSD' 'IQBUSD' 'IDEXUSD'\n",
      " 'LTCBTC' 'LTCEUR' 'MIRBUSD' 'MIRUSD' 'MKRBTC' 'MKRBUSD' 'MKRUSD'\n",
      " 'MLNBUSD' 'MINABUSD' 'MLNUSD' 'MTLBUSD' 'NEARBUSD' 'NEOBUSD' 'NKNUSD'\n",
      " 'NMRBUSD' 'NMRUSD' 'MOVRBUSD' 'LTCBUSD' 'MDXBUSD' 'MDTBUSD' 'LTCUSD'\n",
      " 'LTOBUSD' 'MANABTC' 'MANABUSD' 'MANAEUR' 'MANAUSD' 'MDTUSD' 'MASKBUSD'\n",
      " 'MATICBTC' 'MATICBUSD' 'MATICEUR' 'MATICUSD' 'MBOXBUSD' 'MCBUSD'\n",
      " 'MASKUSD' 'NULSBUSD' 'IDEXBUSD' 'ICPUSDT' 'ETHEUR' 'ETHGBP' 'ETHTUSD'\n",
      " 'ETHUSD' 'ETHUSDC' 'ETHUSDT' 'ETHBUSD' 'EURBUSD' 'FARMUSD' 'FETBUSD'\n",
      " 'FETUSD' 'FIDABUSD' 'FILBTC' 'FILBUSD' 'FARMBUSD' 'FILUSD' 'ETHBTC'\n",
      " 'ETCBUSD' 'DOTEUR' 'DOTUSD' 'DOTUSDT' 'DYDXBUSD' 'EGLDBUSD' 'ELFBUSD'\n",
      " 'ETCUSD' 'ENJBTC' 'ENJUSD' 'ENSBUSD' 'ENSUSD' 'EOSBUSD' 'EOSUSD'\n",
      " 'ERNBUSD' 'ENJBUSD' 'ICXBUSD' 'FIOBUSD' 'FLOWBUSD' 'GRTUSD' 'GTCBUSD'\n",
      " 'GTCUSD' 'GYENUSD' 'HARDBUSD' 'HBARBUSD' 'GRTBUSD' 'HIGHBUSD' 'HNTBUSD'\n",
      " 'HOTBUSD' 'ICPBTC' 'ICPBUSD' 'ICPEUR' 'ICPUSD' 'HIVEBUSD' 'FISBUSD'\n",
      " 'GRTBTC' 'GHSTBUSD' 'FLUXBUSD' 'FORBUSD' 'FORTHBUSD' 'FORTHUSD' 'FOXUSD'\n",
      " 'FRONTBUSD' 'GODSUSD' 'FTMBUSD' 'FXSBUSD' 'FXUSD' 'GALABUSD' 'GALAUSD'\n",
      " 'GALAUSDT' 'GBPBUSD' 'FTTBUSD' 'ZRXUSD']\n",
      "439\n"
     ]
    }
   ],
   "source": [
    "print(\"33 tickers with missing rows\")\n",
    "very_new_ticker_list = np.array((df3.groupby('symbol').size().sort_values()).index[353:])\n",
    "print(very_new_ticker_list)\n",
    "print(len(very_new_ticker_list))\n",
    "count = sum(map(lambda x : x==3624, very_new_ticker_list))\n"
   ]
  },
  {
   "cell_type": "code",
   "execution_count": 76,
   "metadata": {},
   "outputs": [],
   "source": [
    "full_data_set = df3[df3['symbol'].isin(very_new_ticker_list)].copy() \n"
   ]
  },
  {
   "cell_type": "code",
   "execution_count": 77,
   "metadata": {},
   "outputs": [],
   "source": [
    "full_data_set.to_csv(\"Full_combined_tickers.csv\")"
   ]
  },
  {
   "cell_type": "code",
   "execution_count": null,
   "metadata": {},
   "outputs": [],
   "source": []
  }
 ],
 "metadata": {
  "interpreter": {
   "hash": "6b073d3b79de3f491e81d79079d8554611281488ad9a90da89cd78b37212741b"
  },
  "kernelspec": {
   "display_name": "Python 3.9.5 ('crypto-prediction-env': venv)",
   "language": "python",
   "name": "python3"
  },
  "language_info": {
   "codemirror_mode": {
    "name": "ipython",
    "version": 3
   },
   "file_extension": ".py",
   "mimetype": "text/x-python",
   "name": "python",
   "nbconvert_exporter": "python",
   "pygments_lexer": "ipython3",
   "version": "3.9.5"
  },
  "orig_nbformat": 4
 },
 "nbformat": 4,
 "nbformat_minor": 2
}
