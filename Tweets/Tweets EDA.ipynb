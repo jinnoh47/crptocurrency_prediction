{
 "cells": [
  {
   "cell_type": "code",
   "execution_count": 1,
   "id": "bcdd137a",
   "metadata": {},
   "outputs": [],
   "source": [
    "import pandas as pd \n",
    "import numpy as np \n",
    "import matplotlib.pyplot as plt \n",
    "from collections import Counter\n",
    "import glob \n",
    "from transformers import pipeline"
   ]
  },
  {
   "cell_type": "markdown",
   "id": "73cb9aff",
   "metadata": {},
   "source": [
    "# Order of the Coins \n",
    "- I pulled the top 10 market cap coins (that weren't stable coins) \n",
    "- In terms of market cap they are ordered as followed: \n",
    "    - bitcoin \n",
    "    - ethereum \n",
    "    - solana \n",
    "    - cardano \n",
    "    - ripple \n",
    "    - polkadot \n",
    "    - avalanche \n",
    "    - dogecoin \n",
    "    - shuba inu \n",
    "    - polygon \n",
    "    \n",
    "   "
   ]
  },
  {
   "cell_type": "code",
   "execution_count": 2,
   "id": "d8869016",
   "metadata": {},
   "outputs": [],
   "source": [
    "result = glob.glob( 'Separate_Tweets/*.csv' )\n",
    "#print(result)\n",
    "\n",
    "keyword = ['bitcoin', '$btc', 'ethereum', '$eth', 'solana','$sol', 'cardano', '$ada', 'ripple', '$xrp', \n",
    "           'polkadot', '$dot', 'avalanche', '$avax', 'dogecoin', '$doge', 'shiba inu', '$shib', 'polygon', '$matic']\n",
    "\n",
    "\n",
    "dfs = []\n",
    "\n",
    "for i in range(len(keyword)-1): \n",
    "    \n",
    "    df1 = pd.read_csv('Separate_Tweets/{}_Tweets.csv'.format(keyword[i]))\n",
    "    df2 = pd.read_csv('Separate_Tweets/{}_Tweets.csv'.format(keyword[i+1]))\n",
    "    \n",
    "    frames = [df1,df2]\n",
    "    df3 = pd.concat(frames)\n",
    "    \n",
    "    df3 = df3.drop_duplicates(subset = ['ID'])\n",
    "    \n",
    "    dfs.append(df3)\n",
    "    \n",
    "dfs = dfs[::2]"
   ]
  },
  {
   "cell_type": "code",
   "execution_count": 3,
   "id": "9445c1b2",
   "metadata": {},
   "outputs": [],
   "source": [
    "#hate how Im doing this but its not good practice to algorithmically name dataframes (according to the internet)\n",
    "\n",
    "bitcoin_df = dfs[0]\n",
    "ethereum_df = dfs[1]\n",
    "solana_df = dfs[2]\n",
    "cardano_df = dfs[3]\n",
    "ripple_df = dfs[4]\n",
    "polkadot_df = dfs[5]\n",
    "avalanche_df = dfs[6]\n",
    "dogecoin_df = dfs[7]\n",
    "shiba_inu_df = dfs[8]\n",
    "polygon_df = dfs[9]"
   ]
  },
  {
   "cell_type": "code",
   "execution_count": 4,
   "id": "26f1780e",
   "metadata": {},
   "outputs": [],
   "source": [
    "frames = [bitcoin_df, ethereum_df, solana_df, cardano_df, ripple_df, polkadot_df, \n",
    "          avalanche_df, dogecoin_df, shiba_inu_df, polygon_df]\n",
    "\n",
    "\n",
    "frames_txt = ['bitcoin_df', 'ethereum_df', 'solana_df', 'cardano_df', 'ripple_df', 'polkadot_df', \n",
    "          'avalanche_df', 'dogecoin_df', 'shiba_inu_df', 'polygon_df']\n",
    "\n",
    "#create label category to keep track of tweets\n",
    "for i in range(len(frames)):\n",
    "    frames[i]['Label'] = frames_txt[i].split('_')[0]\n",
    "\n",
    "\n",
    "crypto_tweets = pd.concat(frames)\n",
    "crypto_tweets = crypto_tweets.drop_duplicates(subset = ['ID'])\n",
    "crypto_tweets.to_csv('Crypto_Tweets_v2.csv', index = False)"
   ]
  },
  {
   "cell_type": "code",
   "execution_count": 5,
   "id": "c08ef252",
   "metadata": {},
   "outputs": [],
   "source": [
    "#crypto_tweets"
   ]
  },
  {
   "cell_type": "code",
   "execution_count": 6,
   "id": "0de8d754",
   "metadata": {},
   "outputs": [
    {
     "name": "stdout",
     "output_type": "stream",
     "text": [
      " number of tweets for bitcoin_df: 0.14065491183879092\n",
      " number of tweets for ethereum_df: 0.20398704569989204\n",
      " number of tweets for solana_df: 0.30845627923713564\n",
      " number of tweets for cardano_df: 0.05478229578985246\n",
      " number of tweets for ripple_df: 0.046462756387189635\n",
      " number of tweets for polkadot_df: 0.00699532205829435\n",
      " number of tweets for avalanche_df: 0.03516372795969773\n",
      " number of tweets for dogecoin_df: 0.042562072688017275\n",
      " number of tweets for shiba_inu_df: 0.12122346167686218\n",
      " number of tweets for polygon_df: 0.039712126664267725\n"
     ]
    }
   ],
   "source": [
    "sum_vals = 0\n",
    "\n",
    "for i in range(len(frames)):\n",
    "    sum_vals += frames[i].shape[0]\n",
    "\n",
    "for i in range(len(frames)):\n",
    "    print(' number of tweets for {}:'.format(frames_txt[i]), frames[i].shape[0]/sum_vals)"
   ]
  },
  {
   "cell_type": "code",
   "execution_count": 7,
   "id": "09bb010a",
   "metadata": {},
   "outputs": [
    {
     "data": {
      "text/html": [
       "<div>\n",
       "<style scoped>\n",
       "    .dataframe tbody tr th:only-of-type {\n",
       "        vertical-align: middle;\n",
       "    }\n",
       "\n",
       "    .dataframe tbody tr th {\n",
       "        vertical-align: top;\n",
       "    }\n",
       "\n",
       "    .dataframe thead th {\n",
       "        text-align: right;\n",
       "    }\n",
       "</style>\n",
       "<table border=\"1\" class=\"dataframe\">\n",
       "  <thead>\n",
       "    <tr style=\"text-align: right;\">\n",
       "      <th></th>\n",
       "      <th>Date</th>\n",
       "      <th>ID</th>\n",
       "      <th>Tweet</th>\n",
       "      <th>Username</th>\n",
       "      <th>Location</th>\n",
       "      <th>Favorites</th>\n",
       "      <th>Retweets</th>\n",
       "      <th>Followers</th>\n",
       "      <th>Label</th>\n",
       "    </tr>\n",
       "  </thead>\n",
       "  <tbody>\n",
       "    <tr>\n",
       "      <th>0</th>\n",
       "      <td>2022-01-03 23:47:07+00:00</td>\n",
       "      <td>1478150966025371649</td>\n",
       "      <td>13 years after the birth of genesis block, El ...</td>\n",
       "      <td>MilenaMayorga</td>\n",
       "      <td>Washington, DC /San Salvador</td>\n",
       "      <td>2904.0</td>\n",
       "      <td>292</td>\n",
       "      <td>358194.0</td>\n",
       "      <td>bitcoin</td>\n",
       "    </tr>\n",
       "    <tr>\n",
       "      <th>1</th>\n",
       "      <td>2022-01-03 23:30:03+00:00</td>\n",
       "      <td>1478146672228282368</td>\n",
       "      <td>I talked to 5 billionaires last week.\\n\\nEvery...</td>\n",
       "      <td>stedas</td>\n",
       "      <td>NaN</td>\n",
       "      <td>775.0</td>\n",
       "      <td>122</td>\n",
       "      <td>102103.0</td>\n",
       "      <td>bitcoin</td>\n",
       "    </tr>\n",
       "    <tr>\n",
       "      <th>2</th>\n",
       "      <td>2022-01-03 23:20:34+00:00</td>\n",
       "      <td>1478144283886559235</td>\n",
       "      <td>Why I believe #Bitcoin can save #Millennials, ...</td>\n",
       "      <td>natbrunell</td>\n",
       "      <td>No Financial Advice</td>\n",
       "      <td>556.0</td>\n",
       "      <td>114</td>\n",
       "      <td>245853.0</td>\n",
       "      <td>bitcoin</td>\n",
       "    </tr>\n",
       "    <tr>\n",
       "      <th>3</th>\n",
       "      <td>2022-01-03 23:15:43+00:00</td>\n",
       "      <td>1478143064829042688</td>\n",
       "      <td>Since leaving the WH, the Princeton undergrad ...</td>\n",
       "      <td>JoJoFromJerz</td>\n",
       "      <td>New Jersey, USA</td>\n",
       "      <td>906.0</td>\n",
       "      <td>174</td>\n",
       "      <td>530451.0</td>\n",
       "      <td>bitcoin</td>\n",
       "    </tr>\n",
       "    <tr>\n",
       "      <th>4</th>\n",
       "      <td>2022-01-03 23:02:57+00:00</td>\n",
       "      <td>1478139850029215745</td>\n",
       "      <td>@MollyJongFast @atrupar Since leaving the WH, ...</td>\n",
       "      <td>JoJoFromJerz</td>\n",
       "      <td>New Jersey, USA</td>\n",
       "      <td>772.0</td>\n",
       "      <td>79</td>\n",
       "      <td>530451.0</td>\n",
       "      <td>bitcoin</td>\n",
       "    </tr>\n",
       "    <tr>\n",
       "      <th>...</th>\n",
       "      <td>...</td>\n",
       "      <td>...</td>\n",
       "      <td>...</td>\n",
       "      <td>...</td>\n",
       "      <td>...</td>\n",
       "      <td>...</td>\n",
       "      <td>...</td>\n",
       "      <td>...</td>\n",
       "      <td>...</td>\n",
       "    </tr>\n",
       "    <tr>\n",
       "      <th>64538</th>\n",
       "      <td>2022-05-09 01:17:48+00:00</td>\n",
       "      <td>1523472267857907714</td>\n",
       "      <td>🎉Celebrating the #YMZClub X #Florafam collab \\...</td>\n",
       "      <td>NeuroPandas</td>\n",
       "      <td>NaN</td>\n",
       "      <td>119.0</td>\n",
       "      <td>102</td>\n",
       "      <td>1437.0</td>\n",
       "      <td>polygon</td>\n",
       "    </tr>\n",
       "    <tr>\n",
       "      <th>64539</th>\n",
       "      <td>2022-05-10 09:19:20+00:00</td>\n",
       "      <td>1523955838855098368</td>\n",
       "      <td>Current top 10 coins by AltRank™\\n\\n1️⃣ $egld\\...</td>\n",
       "      <td>LunarCrush</td>\n",
       "      <td>Moon</td>\n",
       "      <td>575.0</td>\n",
       "      <td>196</td>\n",
       "      <td>279547.0</td>\n",
       "      <td>polygon</td>\n",
       "    </tr>\n",
       "    <tr>\n",
       "      <th>64540</th>\n",
       "      <td>2022-05-26 14:58:25+00:00</td>\n",
       "      <td>1529839376561324035</td>\n",
       "      <td>🎉 BIG #NFTGiveaway 🎉\\n\\n5x @FishGsNFT NFTs! 😲\\...</td>\n",
       "      <td>CryptoKevvvv</td>\n",
       "      <td>Metaverse</td>\n",
       "      <td>143.0</td>\n",
       "      <td>121</td>\n",
       "      <td>8711.0</td>\n",
       "      <td>polygon</td>\n",
       "    </tr>\n",
       "    <tr>\n",
       "      <th>64541</th>\n",
       "      <td>2022-05-28 07:32:39+00:00</td>\n",
       "      <td>1530451971949268992</td>\n",
       "      <td>🚨 20 $MATIC GIVEAWAY 🚨\\n\\nTo participate:\\n1. ...</td>\n",
       "      <td>ViciousChief</td>\n",
       "      <td>The Moon</td>\n",
       "      <td>524.0</td>\n",
       "      <td>485</td>\n",
       "      <td>19829.0</td>\n",
       "      <td>polygon</td>\n",
       "    </tr>\n",
       "    <tr>\n",
       "      <th>64542</th>\n",
       "      <td>2022-05-31 06:49:18+00:00</td>\n",
       "      <td>1531528229219188736</td>\n",
       "      <td>🎉Free #NFT Giveaway🎉\\n\\n🏆 1x EternalZuki NFT ~...</td>\n",
       "      <td>metazukii</td>\n",
       "      <td>Zukiverse</td>\n",
       "      <td>428.0</td>\n",
       "      <td>394</td>\n",
       "      <td>15370.0</td>\n",
       "      <td>polygon</td>\n",
       "    </tr>\n",
       "  </tbody>\n",
       "</table>\n",
       "<p>64513 rows × 9 columns</p>\n",
       "</div>"
      ],
      "text/plain": [
       "                            Date                   ID  \\\n",
       "0      2022-01-03 23:47:07+00:00  1478150966025371649   \n",
       "1      2022-01-03 23:30:03+00:00  1478146672228282368   \n",
       "2      2022-01-03 23:20:34+00:00  1478144283886559235   \n",
       "3      2022-01-03 23:15:43+00:00  1478143064829042688   \n",
       "4      2022-01-03 23:02:57+00:00  1478139850029215745   \n",
       "...                          ...                  ...   \n",
       "64538  2022-05-09 01:17:48+00:00  1523472267857907714   \n",
       "64539  2022-05-10 09:19:20+00:00  1523955838855098368   \n",
       "64540  2022-05-26 14:58:25+00:00  1529839376561324035   \n",
       "64541  2022-05-28 07:32:39+00:00  1530451971949268992   \n",
       "64542  2022-05-31 06:49:18+00:00  1531528229219188736   \n",
       "\n",
       "                                                   Tweet       Username  \\\n",
       "0      13 years after the birth of genesis block, El ...  MilenaMayorga   \n",
       "1      I talked to 5 billionaires last week.\\n\\nEvery...         stedas   \n",
       "2      Why I believe #Bitcoin can save #Millennials, ...     natbrunell   \n",
       "3      Since leaving the WH, the Princeton undergrad ...   JoJoFromJerz   \n",
       "4      @MollyJongFast @atrupar Since leaving the WH, ...   JoJoFromJerz   \n",
       "...                                                  ...            ...   \n",
       "64538  🎉Celebrating the #YMZClub X #Florafam collab \\...    NeuroPandas   \n",
       "64539  Current top 10 coins by AltRank™\\n\\n1️⃣ $egld\\...     LunarCrush   \n",
       "64540  🎉 BIG #NFTGiveaway 🎉\\n\\n5x @FishGsNFT NFTs! 😲\\...   CryptoKevvvv   \n",
       "64541  🚨 20 $MATIC GIVEAWAY 🚨\\n\\nTo participate:\\n1. ...   ViciousChief   \n",
       "64542  🎉Free #NFT Giveaway🎉\\n\\n🏆 1x EternalZuki NFT ~...      metazukii   \n",
       "\n",
       "                             Location  Favorites Retweets  Followers    Label  \n",
       "0      Washington, DC /San Salvador       2904.0      292   358194.0  bitcoin  \n",
       "1                                 NaN      775.0      122   102103.0  bitcoin  \n",
       "2                 No Financial Advice      556.0      114   245853.0  bitcoin  \n",
       "3                     New Jersey, USA      906.0      174   530451.0  bitcoin  \n",
       "4                     New Jersey, USA      772.0       79   530451.0  bitcoin  \n",
       "...                               ...        ...      ...        ...      ...  \n",
       "64538                             NaN      119.0      102     1437.0  polygon  \n",
       "64539                            Moon      575.0      196   279547.0  polygon  \n",
       "64540                      Metaverse       143.0      121     8711.0  polygon  \n",
       "64541                        The Moon      524.0      485    19829.0  polygon  \n",
       "64542                       Zukiverse      428.0      394    15370.0  polygon  \n",
       "\n",
       "[64513 rows x 9 columns]"
      ]
     },
     "execution_count": 7,
     "metadata": {},
     "output_type": "execute_result"
    }
   ],
   "source": [
    "#Load data, remove NAs\n",
    "df = pd.read_csv('Crypto_Tweets_v2.csv')\n",
    "\n",
    "\n",
    "for i in ['Followers', 'Favorites', 'Tweet', 'ID']:\n",
    "    df = df[df[i].notna()]\n",
    "            \n",
    "df"
   ]
  },
  {
   "cell_type": "code",
   "execution_count": 8,
   "id": "7cbf4492",
   "metadata": {},
   "outputs": [
    {
     "name": "stdout",
     "output_type": "stream",
     "text": [
      "the number of values dropped from each class: 0\n",
      "number of unique tweets: 64513\n",
      "the proportion of missing values by column: Date          0.000000\n",
      "ID            0.000000\n",
      "Tweet         0.000000\n",
      "Username      0.000000\n",
      "Location     30.986003\n",
      "Favorites     0.000000\n",
      "Retweets      0.000000\n",
      "Followers     0.000000\n",
      "Label         0.000000\n",
      "dtype: float64\n"
     ]
    }
   ],
   "source": [
    "#drop duplicate product listings \n",
    "df1 = df.drop_duplicates(subset = ['ID'])\n",
    "#values dropped from each class\n",
    "print(\"the number of values dropped from each class:\", df.shape[0]-df1.shape[0])\n",
    "print(\"number of unique tweets:\", df1.shape[0])\n",
    "\n",
    "# missing values \n",
    "print(\"the proportion of missing values by column:\", df1.isnull().sum() * 100 / df.shape[0])"
   ]
  },
  {
   "cell_type": "code",
   "execution_count": 9,
   "id": "2a07af96",
   "metadata": {},
   "outputs": [
    {
     "name": "stdout",
     "output_type": "stream",
     "text": [
      "number of unique twitter accounts: 12233\n"
     ]
    },
    {
     "name": "stderr",
     "output_type": "stream",
     "text": [
      "<ipython-input-9-5e84a9ffbc63>:4: FutureWarning: Indexing with multiple keys (implicitly converted to a tuple of keys) will be deprecated, use a list instead.\n",
      "  act_freq = df1.groupby(['Username'])['Username', 'Followers'].agg(['count','mean'])\n"
     ]
    }
   ],
   "source": [
    "\n",
    "print(\"number of unique twitter accounts:\", len(np.unique(df1['Username'])))\n",
    "\n",
    "\n",
    "act_freq = df1.groupby(['Username'])['Username', 'Followers'].agg(['count','mean'])\n",
    "act_freq = act_freq.sort_values(by = [('Followers', 'count')], ascending = False)\n"
   ]
  },
  {
   "cell_type": "code",
   "execution_count": 10,
   "id": "d9b5e867",
   "metadata": {},
   "outputs": [
    {
     "data": {
      "text/plain": [
       "Date          object\n",
       "ID            object\n",
       "Tweet         object\n",
       "Username      object\n",
       "Location      object\n",
       "Favorites    float64\n",
       "Retweets       int64\n",
       "Followers    float64\n",
       "Label         object\n",
       "dtype: object"
      ]
     },
     "execution_count": 10,
     "metadata": {},
     "output_type": "execute_result"
    }
   ],
   "source": [
    "df1['Retweets'] = pd.to_numeric(df1['Retweets'])\n",
    "df1.dtypes"
   ]
  },
  {
   "cell_type": "code",
   "execution_count": 11,
   "id": "6e65113c",
   "metadata": {},
   "outputs": [
    {
     "data": {
      "text/html": [
       "<div>\n",
       "<style scoped>\n",
       "    .dataframe tbody tr th:only-of-type {\n",
       "        vertical-align: middle;\n",
       "    }\n",
       "\n",
       "    .dataframe tbody tr th {\n",
       "        vertical-align: top;\n",
       "    }\n",
       "\n",
       "    .dataframe thead tr th {\n",
       "        text-align: left;\n",
       "    }\n",
       "\n",
       "    .dataframe thead tr:last-of-type th {\n",
       "        text-align: right;\n",
       "    }\n",
       "</style>\n",
       "<table border=\"1\" class=\"dataframe\">\n",
       "  <thead>\n",
       "    <tr>\n",
       "      <th></th>\n",
       "      <th colspan=\"2\" halign=\"left\">Followers</th>\n",
       "    </tr>\n",
       "    <tr>\n",
       "      <th></th>\n",
       "      <th>count</th>\n",
       "      <th>mean</th>\n",
       "    </tr>\n",
       "    <tr>\n",
       "      <th>Username</th>\n",
       "      <th></th>\n",
       "      <th></th>\n",
       "    </tr>\n",
       "  </thead>\n",
       "  <tbody>\n",
       "    <tr>\n",
       "      <th>ShibInform</th>\n",
       "      <td>1234</td>\n",
       "      <td>5.873748e+05</td>\n",
       "    </tr>\n",
       "    <tr>\n",
       "      <th>shibainuart</th>\n",
       "      <td>898</td>\n",
       "      <td>3.367217e+05</td>\n",
       "    </tr>\n",
       "    <tr>\n",
       "      <th>WatcherGuru</th>\n",
       "      <td>864</td>\n",
       "      <td>1.277635e+06</td>\n",
       "    </tr>\n",
       "    <tr>\n",
       "      <th>shibburn</th>\n",
       "      <td>519</td>\n",
       "      <td>2.683340e+05</td>\n",
       "    </tr>\n",
       "    <tr>\n",
       "      <th>DecNFT</th>\n",
       "      <td>494</td>\n",
       "      <td>1.018961e+05</td>\n",
       "    </tr>\n",
       "    <tr>\n",
       "      <th>...</th>\n",
       "      <td>...</td>\n",
       "      <td>...</td>\n",
       "    </tr>\n",
       "    <tr>\n",
       "      <th>Palaneum1</th>\n",
       "      <td>1</td>\n",
       "      <td>2.377900e+04</td>\n",
       "    </tr>\n",
       "    <tr>\n",
       "      <th>PakoiNft</th>\n",
       "      <td>1</td>\n",
       "      <td>2.130000e+02</td>\n",
       "    </tr>\n",
       "    <tr>\n",
       "      <th>PakitaNFT</th>\n",
       "      <td>1</td>\n",
       "      <td>1.858500e+04</td>\n",
       "    </tr>\n",
       "    <tr>\n",
       "      <th>PaintingBitcoin</th>\n",
       "      <td>1</td>\n",
       "      <td>9.090000e+02</td>\n",
       "    </tr>\n",
       "    <tr>\n",
       "      <th>zzigster</th>\n",
       "      <td>1</td>\n",
       "      <td>2.600000e+01</td>\n",
       "    </tr>\n",
       "  </tbody>\n",
       "</table>\n",
       "<p>12233 rows × 2 columns</p>\n",
       "</div>"
      ],
      "text/plain": [
       "                Followers              \n",
       "                    count          mean\n",
       "Username                               \n",
       "ShibInform           1234  5.873748e+05\n",
       "shibainuart           898  3.367217e+05\n",
       "WatcherGuru           864  1.277635e+06\n",
       "shibburn              519  2.683340e+05\n",
       "DecNFT                494  1.018961e+05\n",
       "...                   ...           ...\n",
       "Palaneum1               1  2.377900e+04\n",
       "PakoiNft                1  2.130000e+02\n",
       "PakitaNFT               1  1.858500e+04\n",
       "PaintingBitcoin         1  9.090000e+02\n",
       "zzigster                1  2.600000e+01\n",
       "\n",
       "[12233 rows x 2 columns]"
      ]
     },
     "execution_count": 11,
     "metadata": {},
     "output_type": "execute_result"
    }
   ],
   "source": [
    "act_freq"
   ]
  },
  {
   "cell_type": "code",
   "execution_count": 12,
   "id": "5b2f02b7",
   "metadata": {},
   "outputs": [
    {
     "data": {
      "image/png": "[encoded data removed]",
      "text/plain": [
       "<Figure size 432x288 with 1 Axes>"
      ]
     },
     "metadata": {
      "needs_background": "light"
     },
     "output_type": "display_data"
    }
   ],
   "source": [
    "plt.scatter(np.array(act_freq.iloc[:,0]), np.array(act_freq.iloc[:,1]))\n",
    "plt.xscale('log')\n",
    "\n",
    "#plt.yscale('log')\n",
    "plt.xlabel('Number of Tweets')\n",
    "plt.ylabel('Number of followers')\n",
    "plt.show(\"Followers plotted versus bymber of tweets\")"
   ]
  },
  {
   "cell_type": "code",
   "execution_count": 13,
   "id": "b6414764",
   "metadata": {},
   "outputs": [],
   "source": [
    "#get separate datetime columns \n",
    "df1['Dates'] = pd.to_datetime(df1['Date']).dt.date\n",
    "df1['Time'] = pd.to_datetime(df1['Date']).dt.time"
   ]
  },
  {
   "cell_type": "code",
   "execution_count": 14,
   "id": "e7c33fb6",
   "metadata": {},
   "outputs": [
    {
     "data": {
      "image/png": "[encoded data removed]",
      "text/plain": [
       "<Figure size 432x288 with 1 Axes>"
      ]
     },
     "metadata": {
      "needs_background": "light"
     },
     "output_type": "display_data"
    }
   ],
   "source": [
    "#time series plot (this does not necessarily indicate accurate tweet volume, disparate results in the scraper)\n",
    "plt.plot(df1.groupby(['Dates'])['Dates'].agg(Frequency = 'count'))\n",
    "plt.xlabel('Date')\n",
    "plt.ylabel('Count')\n",
    "plt.title('Number of Tweets by Day')\n",
    "plt.show()"
   ]
  },
  {
   "cell_type": "code",
   "execution_count": 15,
   "id": "7eae721d",
   "metadata": {},
   "outputs": [],
   "source": [
    "#create a function that defines the percentiles of favorites, retweets by the day\n",
    "def percentile(n):\n",
    "    def percentile_(x):\n",
    "        return np.percentile(x, n)\n",
    "    percentile_.__name__ = 'percentile_%s' % n\n",
    "    return percentile_"
   ]
  },
  {
   "cell_type": "code",
   "execution_count": 16,
   "id": "df9ce62d",
   "metadata": {},
   "outputs": [
    {
     "name": "stderr",
     "output_type": "stream",
     "text": [
      "<ipython-input-16-8ce8e3a15b40>:2: FutureWarning: Indexing with multiple keys (implicitly converted to a tuple of keys) will be deprecated, use a list instead.\n",
      "  value_df = df1.groupby(['Dates'])['Favorites','Retweets'].agg(['mean', percentile(25), 'median', percentile(75), 'std'])\n"
     ]
    }
   ],
   "source": [
    "#get the statistics on many \n",
    "value_df = df1.groupby(['Dates'])['Favorites','Retweets'].agg(['mean', percentile(25), 'median', percentile(75), 'std'])"
   ]
  },
  {
   "cell_type": "code",
   "execution_count": 17,
   "id": "86745df2",
   "metadata": {},
   "outputs": [
    {
     "data": {
      "image/png": "[encoded data removed]",
      "text/plain": [
       "<Figure size 432x288 with 1 Axes>"
      ]
     },
     "metadata": {
      "needs_background": "light"
     },
     "output_type": "display_data"
    }
   ],
   "source": [
    "#plot favorites \n",
    "\n",
    "x  = np.linspace(0,151,151)\n",
    "y1 = np.array(value_df.iloc[:,1])\n",
    "y2 = np.array(value_df.iloc[:,2])\n",
    "y3 = np.array(value_df.iloc[:,3])\n",
    "plt.plot(y1, color = 'purple', label = '25th Percentile')\n",
    "plt.plot(y2, color = 'orange',  label = '50th Percentile')\n",
    "plt.plot(y3, color = 'blue',label = '75th Percentile')\n",
    "plt.fill_between(x, y1, y3, color = 'grey')\n",
    "#plt.xticks(x, labels=np.unique(df1['Dates']), rotation = 90)\n",
    "plt.legend()\n",
    "plt.title('Distribution of Favorites by Date')\n",
    "plt.ylabel('Number of Favorites')\n",
    "plt.xlabel('Date Index')\n",
    "plt.show()"
   ]
  },
  {
   "cell_type": "code",
   "execution_count": 18,
   "id": "07975fb8",
   "metadata": {},
   "outputs": [
    {
     "data": {
      "image/png": "[encoded data removed]",
      "text/plain": [
       "<Figure size 432x288 with 1 Axes>"
      ]
     },
     "metadata": {
      "needs_background": "light"
     },
     "output_type": "display_data"
    }
   ],
   "source": [
    "#plot retweets \n",
    "\n",
    "x  = np.linspace(0,151,151)\n",
    "y1 = np.array(value_df.iloc[:,6])\n",
    "y2 = np.array(value_df.iloc[:,7])\n",
    "y3 = np.array(value_df.iloc[:,8])\n",
    "plt.plot(y1, color = 'purple', label = '25th Percentile')\n",
    "plt.plot(y2, color = 'orange',  label = '50th Percentile')\n",
    "plt.plot(y3, color = 'blue',label = '75th Percentile')\n",
    "plt.fill_between(x, y1, y3, color = 'grey')\n",
    "#plt.xticks(x, labels=np.unique(df1['Dates']), rotation = 90)\n",
    "plt.legend()\n",
    "plt.title('Distribution of Retweets by Date')\n",
    "plt.ylabel('Number of Favorites')\n",
    "plt.xlabel('Date Index')\n",
    "plt.show()\n"
   ]
  },
  {
   "cell_type": "markdown",
   "id": "43d665af",
   "metadata": {},
   "source": [
    "# Using Hugging Face to Classify Tweet Sentiment "
   ]
  },
  {
   "cell_type": "code",
   "execution_count": 19,
   "id": "3e1ec719",
   "metadata": {},
   "outputs": [],
   "source": [
    "data = df1.loc[:,'Tweet']"
   ]
  },
  {
   "cell_type": "code",
   "execution_count": 20,
   "id": "55ebf1b9",
   "metadata": {},
   "outputs": [
    {
     "name": "stderr",
     "output_type": "stream",
     "text": [
      "[nltk_data] Downloading package wordnet to /Users/cho/nltk_data...\n",
      "[nltk_data]   Package wordnet is already up-to-date!\n",
      "[nltk_data] Downloading package stopwords to /Users/cho/nltk_data...\n",
      "[nltk_data]   Package stopwords is already up-to-date!\n"
     ]
    }
   ],
   "source": [
    "import re \n",
    "import nltk \n",
    "\n",
    "#lemmatize\n",
    "from nltk.stem import WordNetLemmatizer\n",
    "lemma = WordNetLemmatizer()\n",
    "\n",
    "\n",
    "nltk.download('wordnet')\n",
    "nltk.download('stopwords')\n",
    "from nltk.corpus import stopwords\n",
    "\n",
    "#stopwords set \n",
    "stp = set(stopwords.words('english'))\n",
    "\n",
    "\n",
    "#tokenize words\n",
    "from nltk.tokenize import RegexpTokenizer\n",
    "\n",
    "# ##remove text\n",
    "# def preprocess_text(corpus):\n",
    "    \n",
    "#     #basic text cleaning\n",
    "#     corpus = str(corpus) #convert all values to string \n",
    "#     corpus = corpus.lower() #set text to lowercase \n",
    "    \n",
    "#     #remove specific values from text \n",
    "#     remove_sym = re.compile('[^0-9a-z #+_]') #compiling symbols that are numeric/special to remove from text \n",
    "#     corpus = remove_sym.sub('', corpus)\n",
    "    \n",
    "#     #add spaces\n",
    "#     space = re.compile('[/(){}\\[\\]\\\\@;]')\n",
    "#     corpus = space.sub(' ', corpus)\n",
    "    \n",
    "#     #tokenize\n",
    "#     tk = RegexpTokenizer(r'\\w+')\n",
    "#     corpus = tk.tokenize(corpus)\n",
    "    \n",
    "#     #remove stop words\n",
    "#     corpus = [i for i in corpus if not i in stp]\n",
    "    \n",
    "#     #lemmatize text \n",
    "#     lemm_text = [lemma.lemmatize(i) for i in corpus]\n",
    "#     corpus = \" \".join(lemm_text)\n",
    "\n",
    "#     return corpus\n"
   ]
  },
  {
   "cell_type": "code",
   "execution_count": 21,
   "id": "0af6547a",
   "metadata": {},
   "outputs": [],
   "source": [
    "def preprocess_text(corpus): \n",
    "    corpus = corpus.lower()\n",
    "    corpus = re.sub(r'http\\S+', '', corpus)\n",
    "    corpus = corpus.replace(\"\\n\", \"\")\n",
    "    \n",
    "    return corpus"
   ]
  },
  {
   "cell_type": "code",
   "execution_count": 22,
   "id": "907671d8",
   "metadata": {},
   "outputs": [],
   "source": [
    "#data cleaned by doc and then appended to a list \n",
    "data_cleaned = []\n",
    "\n",
    "for i in data: \n",
    "    data_cleaned.append(preprocess_text(i))"
   ]
  },
  {
   "cell_type": "code",
   "execution_count": 23,
   "id": "3989e8fe",
   "metadata": {},
   "outputs": [],
   "source": [
    "from transformers import AutoModelForSequenceClassification\n",
    "from transformers import TFAutoModelForSequenceClassification\n",
    "from transformers import AutoTokenizer, AutoConfig\n",
    "import numpy as np\n",
    "from scipy.special import softmax\n",
    "from transformers import logging\n",
    "logging.set_verbosity_error()\n",
    "\n",
    "import time \n",
    "\n",
    "start = time.time()\n",
    "\n",
    "def sentiment_func(text): \n",
    "    \n",
    "    MODEL = f\"cardiffnlp/twitter-roberta-base-sentiment-latest\"\n",
    "    tokenizer = AutoTokenizer.from_pretrained(MODEL)\n",
    "    config = AutoConfig.from_pretrained(MODEL)\n",
    "\n",
    "    model = AutoModelForSequenceClassification.from_pretrained(MODEL)\n",
    "\n",
    "    encoded_input = tokenizer(text, return_tensors='pt')\n",
    "    output = model(**encoded_input)\n",
    "    scores = output[0][0].detach().numpy()\n",
    "    scores = softmax(scores)\n",
    "    \n",
    "    return scores\n",
    "\n",
    "\n"
   ]
  },
  {
   "cell_type": "code",
   "execution_count": 24,
   "id": "787955b8",
   "metadata": {
    "scrolled": true
   },
   "outputs": [
    {
     "ename": "KeyboardInterrupt",
     "evalue": "",
     "output_type": "error",
     "traceback": [
      "\u001b[0;31m---------------------------------------------------------------------------\u001b[0m",
      "\u001b[0;31mKeyboardInterrupt\u001b[0m                         Traceback (most recent call last)",
      "\u001b[0;32m<ipython-input-24-33591919611e>\u001b[0m in \u001b[0;36m<module>\u001b[0;34m\u001b[0m\n\u001b[1;32m      5\u001b[0m \u001b[0;32mfor\u001b[0m \u001b[0mi\u001b[0m \u001b[0;32min\u001b[0m \u001b[0mdata_cleaned\u001b[0m\u001b[0;34m:\u001b[0m\u001b[0;34m\u001b[0m\u001b[0;34m\u001b[0m\u001b[0m\n\u001b[1;32m      6\u001b[0m \u001b[0;34m\u001b[0m\u001b[0m\n\u001b[0;32m----> 7\u001b[0;31m     \u001b[0mvalues\u001b[0m \u001b[0;34m=\u001b[0m \u001b[0msentiment_func\u001b[0m\u001b[0;34m(\u001b[0m\u001b[0mi\u001b[0m\u001b[0;34m)\u001b[0m\u001b[0;34m\u001b[0m\u001b[0;34m\u001b[0m\u001b[0m\n\u001b[0m\u001b[1;32m      8\u001b[0m     \u001b[0msent_scores\u001b[0m\u001b[0;34m.\u001b[0m\u001b[0mappend\u001b[0m\u001b[0;34m(\u001b[0m\u001b[0mvalues\u001b[0m\u001b[0;34m)\u001b[0m\u001b[0;34m\u001b[0m\u001b[0;34m\u001b[0m\u001b[0m\n\u001b[1;32m      9\u001b[0m \u001b[0;34m\u001b[0m\u001b[0m\n",
      "\u001b[0;32m<ipython-input-23-711c3abae7c4>\u001b[0m in \u001b[0;36msentiment_func\u001b[0;34m(text)\u001b[0m\n\u001b[1;32m     17\u001b[0m     \u001b[0mconfig\u001b[0m \u001b[0;34m=\u001b[0m \u001b[0mAutoConfig\u001b[0m\u001b[0;34m.\u001b[0m\u001b[0mfrom_pretrained\u001b[0m\u001b[0;34m(\u001b[0m\u001b[0mMODEL\u001b[0m\u001b[0;34m)\u001b[0m\u001b[0;34m\u001b[0m\u001b[0;34m\u001b[0m\u001b[0m\n\u001b[1;32m     18\u001b[0m \u001b[0;34m\u001b[0m\u001b[0m\n\u001b[0;32m---> 19\u001b[0;31m     \u001b[0mmodel\u001b[0m \u001b[0;34m=\u001b[0m \u001b[0mAutoModelForSequenceClassification\u001b[0m\u001b[0;34m.\u001b[0m\u001b[0mfrom_pretrained\u001b[0m\u001b[0;34m(\u001b[0m\u001b[0mMODEL\u001b[0m\u001b[0;34m)\u001b[0m\u001b[0;34m\u001b[0m\u001b[0;34m\u001b[0m\u001b[0m\n\u001b[0m\u001b[1;32m     20\u001b[0m \u001b[0;34m\u001b[0m\u001b[0m\n\u001b[1;32m     21\u001b[0m     \u001b[0mencoded_input\u001b[0m \u001b[0;34m=\u001b[0m \u001b[0mtokenizer\u001b[0m\u001b[0;34m(\u001b[0m\u001b[0mtext\u001b[0m\u001b[0;34m,\u001b[0m \u001b[0mreturn_tensors\u001b[0m\u001b[0;34m=\u001b[0m\u001b[0;34m'pt'\u001b[0m\u001b[0;34m)\u001b[0m\u001b[0;34m\u001b[0m\u001b[0;34m\u001b[0m\u001b[0m\n",
      "\u001b[0;32m/opt/anaconda3/lib/python3.8/site-packages/transformers/models/auto/auto_factory.py\u001b[0m in \u001b[0;36mfrom_pretrained\u001b[0;34m(cls, pretrained_model_name_or_path, *model_args, **kwargs)\u001b[0m\n\u001b[1;32m    444\u001b[0m         \u001b[0;32melif\u001b[0m \u001b[0mtype\u001b[0m\u001b[0;34m(\u001b[0m\u001b[0mconfig\u001b[0m\u001b[0;34m)\u001b[0m \u001b[0;32min\u001b[0m \u001b[0mcls\u001b[0m\u001b[0;34m.\u001b[0m\u001b[0m_model_mapping\u001b[0m\u001b[0;34m.\u001b[0m\u001b[0mkeys\u001b[0m\u001b[0;34m(\u001b[0m\u001b[0;34m)\u001b[0m\u001b[0;34m:\u001b[0m\u001b[0;34m\u001b[0m\u001b[0;34m\u001b[0m\u001b[0m\n\u001b[1;32m    445\u001b[0m             \u001b[0mmodel_class\u001b[0m \u001b[0;34m=\u001b[0m \u001b[0m_get_model_class\u001b[0m\u001b[0;34m(\u001b[0m\u001b[0mconfig\u001b[0m\u001b[0;34m,\u001b[0m \u001b[0mcls\u001b[0m\u001b[0;34m.\u001b[0m\u001b[0m_model_mapping\u001b[0m\u001b[0;34m)\u001b[0m\u001b[0;34m\u001b[0m\u001b[0;34m\u001b[0m\u001b[0m\n\u001b[0;32m--> 446\u001b[0;31m             \u001b[0;32mreturn\u001b[0m \u001b[0mmodel_class\u001b[0m\u001b[0;34m.\u001b[0m\u001b[0mfrom_pretrained\u001b[0m\u001b[0;34m(\u001b[0m\u001b[0mpretrained_model_name_or_path\u001b[0m\u001b[0;34m,\u001b[0m \u001b[0;34m*\u001b[0m\u001b[0mmodel_args\u001b[0m\u001b[0;34m,\u001b[0m \u001b[0mconfig\u001b[0m\u001b[0;34m=\u001b[0m\u001b[0mconfig\u001b[0m\u001b[0;34m,\u001b[0m \u001b[0;34m**\u001b[0m\u001b[0mkwargs\u001b[0m\u001b[0;34m)\u001b[0m\u001b[0;34m\u001b[0m\u001b[0;34m\u001b[0m\u001b[0m\n\u001b[0m\u001b[1;32m    447\u001b[0m         raise ValueError(\n\u001b[1;32m    448\u001b[0m             \u001b[0;34mf\"Unrecognized configuration class {config.__class__} for this kind of AutoModel: {cls.__name__}.\\n\"\u001b[0m\u001b[0;34m\u001b[0m\u001b[0;34m\u001b[0m\u001b[0m\n",
      "\u001b[0;32m/opt/anaconda3/lib/python3.8/site-packages/transformers/modeling_utils.py\u001b[0m in \u001b[0;36mfrom_pretrained\u001b[0;34m(cls, pretrained_model_name_or_path, *model_args, **kwargs)\u001b[0m\n\u001b[1;32m   2104\u001b[0m \u001b[0;34m\u001b[0m\u001b[0m\n\u001b[1;32m   2105\u001b[0m         \u001b[0;32mwith\u001b[0m \u001b[0mContextManagers\u001b[0m\u001b[0;34m(\u001b[0m\u001b[0minit_contexts\u001b[0m\u001b[0;34m)\u001b[0m\u001b[0;34m:\u001b[0m\u001b[0;34m\u001b[0m\u001b[0;34m\u001b[0m\u001b[0m\n\u001b[0;32m-> 2106\u001b[0;31m             \u001b[0mmodel\u001b[0m \u001b[0;34m=\u001b[0m \u001b[0mcls\u001b[0m\u001b[0;34m(\u001b[0m\u001b[0mconfig\u001b[0m\u001b[0;34m,\u001b[0m \u001b[0;34m*\u001b[0m\u001b[0mmodel_args\u001b[0m\u001b[0;34m,\u001b[0m \u001b[0;34m**\u001b[0m\u001b[0mmodel_kwargs\u001b[0m\u001b[0;34m)\u001b[0m\u001b[0;34m\u001b[0m\u001b[0;34m\u001b[0m\u001b[0m\n\u001b[0m\u001b[1;32m   2107\u001b[0m \u001b[0;34m\u001b[0m\u001b[0m\n\u001b[1;32m   2108\u001b[0m         \u001b[0;32mif\u001b[0m \u001b[0mdevice_map\u001b[0m \u001b[0;34m==\u001b[0m \u001b[0;34m\"auto\"\u001b[0m\u001b[0;34m:\u001b[0m\u001b[0;34m\u001b[0m\u001b[0;34m\u001b[0m\u001b[0m\n",
      "\u001b[0;32m/opt/anaconda3/lib/python3.8/site-packages/transformers/models/roberta/modeling_roberta.py\u001b[0m in \u001b[0;36m__init__\u001b[0;34m(self, config)\u001b[0m\n\u001b[1;32m   1168\u001b[0m         \u001b[0mself\u001b[0m\u001b[0;34m.\u001b[0m\u001b[0mconfig\u001b[0m \u001b[0;34m=\u001b[0m \u001b[0mconfig\u001b[0m\u001b[0;34m\u001b[0m\u001b[0;34m\u001b[0m\u001b[0m\n\u001b[1;32m   1169\u001b[0m \u001b[0;34m\u001b[0m\u001b[0m\n\u001b[0;32m-> 1170\u001b[0;31m         \u001b[0mself\u001b[0m\u001b[0;34m.\u001b[0m\u001b[0mroberta\u001b[0m \u001b[0;34m=\u001b[0m \u001b[0mRobertaModel\u001b[0m\u001b[0;34m(\u001b[0m\u001b[0mconfig\u001b[0m\u001b[0;34m,\u001b[0m \u001b[0madd_pooling_layer\u001b[0m\u001b[0;34m=\u001b[0m\u001b[0;32mFalse\u001b[0m\u001b[0;34m)\u001b[0m\u001b[0;34m\u001b[0m\u001b[0;34m\u001b[0m\u001b[0m\n\u001b[0m\u001b[1;32m   1171\u001b[0m         \u001b[0mself\u001b[0m\u001b[0;34m.\u001b[0m\u001b[0mclassifier\u001b[0m \u001b[0;34m=\u001b[0m \u001b[0mRobertaClassificationHead\u001b[0m\u001b[0;34m(\u001b[0m\u001b[0mconfig\u001b[0m\u001b[0;34m)\u001b[0m\u001b[0;34m\u001b[0m\u001b[0;34m\u001b[0m\u001b[0m\n\u001b[1;32m   1172\u001b[0m \u001b[0;34m\u001b[0m\u001b[0m\n",
      "\u001b[0;32m/opt/anaconda3/lib/python3.8/site-packages/transformers/models/roberta/modeling_roberta.py\u001b[0m in \u001b[0;36m__init__\u001b[0;34m(self, config, add_pooling_layer)\u001b[0m\n\u001b[1;32m    715\u001b[0m \u001b[0;34m\u001b[0m\u001b[0m\n\u001b[1;32m    716\u001b[0m         \u001b[0mself\u001b[0m\u001b[0;34m.\u001b[0m\u001b[0membeddings\u001b[0m \u001b[0;34m=\u001b[0m \u001b[0mRobertaEmbeddings\u001b[0m\u001b[0;34m(\u001b[0m\u001b[0mconfig\u001b[0m\u001b[0;34m)\u001b[0m\u001b[0;34m\u001b[0m\u001b[0;34m\u001b[0m\u001b[0m\n\u001b[0;32m--> 717\u001b[0;31m         \u001b[0mself\u001b[0m\u001b[0;34m.\u001b[0m\u001b[0mencoder\u001b[0m \u001b[0;34m=\u001b[0m \u001b[0mRobertaEncoder\u001b[0m\u001b[0;34m(\u001b[0m\u001b[0mconfig\u001b[0m\u001b[0;34m)\u001b[0m\u001b[0;34m\u001b[0m\u001b[0;34m\u001b[0m\u001b[0m\n\u001b[0m\u001b[1;32m    718\u001b[0m \u001b[0;34m\u001b[0m\u001b[0m\n\u001b[1;32m    719\u001b[0m         \u001b[0mself\u001b[0m\u001b[0;34m.\u001b[0m\u001b[0mpooler\u001b[0m \u001b[0;34m=\u001b[0m \u001b[0mRobertaPooler\u001b[0m\u001b[0;34m(\u001b[0m\u001b[0mconfig\u001b[0m\u001b[0;34m)\u001b[0m \u001b[0;32mif\u001b[0m \u001b[0madd_pooling_layer\u001b[0m \u001b[0;32melse\u001b[0m \u001b[0;32mNone\u001b[0m\u001b[0;34m\u001b[0m\u001b[0;34m\u001b[0m\u001b[0m\n",
      "\u001b[0;32m/opt/anaconda3/lib/python3.8/site-packages/transformers/models/roberta/modeling_roberta.py\u001b[0m in \u001b[0;36m__init__\u001b[0;34m(self, config)\u001b[0m\n\u001b[1;32m    471\u001b[0m         \u001b[0msuper\u001b[0m\u001b[0;34m(\u001b[0m\u001b[0;34m)\u001b[0m\u001b[0;34m.\u001b[0m\u001b[0m__init__\u001b[0m\u001b[0;34m(\u001b[0m\u001b[0;34m)\u001b[0m\u001b[0;34m\u001b[0m\u001b[0;34m\u001b[0m\u001b[0m\n\u001b[1;32m    472\u001b[0m         \u001b[0mself\u001b[0m\u001b[0;34m.\u001b[0m\u001b[0mconfig\u001b[0m \u001b[0;34m=\u001b[0m \u001b[0mconfig\u001b[0m\u001b[0;34m\u001b[0m\u001b[0;34m\u001b[0m\u001b[0m\n\u001b[0;32m--> 473\u001b[0;31m         \u001b[0mself\u001b[0m\u001b[0;34m.\u001b[0m\u001b[0mlayer\u001b[0m \u001b[0;34m=\u001b[0m \u001b[0mnn\u001b[0m\u001b[0;34m.\u001b[0m\u001b[0mModuleList\u001b[0m\u001b[0;34m(\u001b[0m\u001b[0;34m[\u001b[0m\u001b[0mRobertaLayer\u001b[0m\u001b[0;34m(\u001b[0m\u001b[0mconfig\u001b[0m\u001b[0;34m)\u001b[0m \u001b[0;32mfor\u001b[0m \u001b[0m_\u001b[0m \u001b[0;32min\u001b[0m \u001b[0mrange\u001b[0m\u001b[0;34m(\u001b[0m\u001b[0mconfig\u001b[0m\u001b[0;34m.\u001b[0m\u001b[0mnum_hidden_layers\u001b[0m\u001b[0;34m)\u001b[0m\u001b[0;34m]\u001b[0m\u001b[0;34m)\u001b[0m\u001b[0;34m\u001b[0m\u001b[0;34m\u001b[0m\u001b[0m\n\u001b[0m\u001b[1;32m    474\u001b[0m         \u001b[0mself\u001b[0m\u001b[0;34m.\u001b[0m\u001b[0mgradient_checkpointing\u001b[0m \u001b[0;34m=\u001b[0m \u001b[0;32mFalse\u001b[0m\u001b[0;34m\u001b[0m\u001b[0;34m\u001b[0m\u001b[0m\n\u001b[1;32m    475\u001b[0m \u001b[0;34m\u001b[0m\u001b[0m\n",
      "\u001b[0;32m/opt/anaconda3/lib/python3.8/site-packages/transformers/models/roberta/modeling_roberta.py\u001b[0m in \u001b[0;36m<listcomp>\u001b[0;34m(.0)\u001b[0m\n\u001b[1;32m    471\u001b[0m         \u001b[0msuper\u001b[0m\u001b[0;34m(\u001b[0m\u001b[0;34m)\u001b[0m\u001b[0;34m.\u001b[0m\u001b[0m__init__\u001b[0m\u001b[0;34m(\u001b[0m\u001b[0;34m)\u001b[0m\u001b[0;34m\u001b[0m\u001b[0;34m\u001b[0m\u001b[0m\n\u001b[1;32m    472\u001b[0m         \u001b[0mself\u001b[0m\u001b[0;34m.\u001b[0m\u001b[0mconfig\u001b[0m \u001b[0;34m=\u001b[0m \u001b[0mconfig\u001b[0m\u001b[0;34m\u001b[0m\u001b[0;34m\u001b[0m\u001b[0m\n\u001b[0;32m--> 473\u001b[0;31m         \u001b[0mself\u001b[0m\u001b[0;34m.\u001b[0m\u001b[0mlayer\u001b[0m \u001b[0;34m=\u001b[0m \u001b[0mnn\u001b[0m\u001b[0;34m.\u001b[0m\u001b[0mModuleList\u001b[0m\u001b[0;34m(\u001b[0m\u001b[0;34m[\u001b[0m\u001b[0mRobertaLayer\u001b[0m\u001b[0;34m(\u001b[0m\u001b[0mconfig\u001b[0m\u001b[0;34m)\u001b[0m \u001b[0;32mfor\u001b[0m \u001b[0m_\u001b[0m \u001b[0;32min\u001b[0m \u001b[0mrange\u001b[0m\u001b[0;34m(\u001b[0m\u001b[0mconfig\u001b[0m\u001b[0;34m.\u001b[0m\u001b[0mnum_hidden_layers\u001b[0m\u001b[0;34m)\u001b[0m\u001b[0;34m]\u001b[0m\u001b[0;34m)\u001b[0m\u001b[0;34m\u001b[0m\u001b[0;34m\u001b[0m\u001b[0m\n\u001b[0m\u001b[1;32m    474\u001b[0m         \u001b[0mself\u001b[0m\u001b[0;34m.\u001b[0m\u001b[0mgradient_checkpointing\u001b[0m \u001b[0;34m=\u001b[0m \u001b[0;32mFalse\u001b[0m\u001b[0;34m\u001b[0m\u001b[0;34m\u001b[0m\u001b[0m\n\u001b[1;32m    475\u001b[0m \u001b[0;34m\u001b[0m\u001b[0m\n",
      "\u001b[0;32m/opt/anaconda3/lib/python3.8/site-packages/transformers/models/roberta/modeling_roberta.py\u001b[0m in \u001b[0;36m__init__\u001b[0;34m(self, config)\u001b[0m\n\u001b[1;32m    385\u001b[0m         \u001b[0mself\u001b[0m\u001b[0;34m.\u001b[0m\u001b[0mchunk_size_feed_forward\u001b[0m \u001b[0;34m=\u001b[0m \u001b[0mconfig\u001b[0m\u001b[0;34m.\u001b[0m\u001b[0mchunk_size_feed_forward\u001b[0m\u001b[0;34m\u001b[0m\u001b[0;34m\u001b[0m\u001b[0m\n\u001b[1;32m    386\u001b[0m         \u001b[0mself\u001b[0m\u001b[0;34m.\u001b[0m\u001b[0mseq_len_dim\u001b[0m \u001b[0;34m=\u001b[0m \u001b[0;36m1\u001b[0m\u001b[0;34m\u001b[0m\u001b[0;34m\u001b[0m\u001b[0m\n\u001b[0;32m--> 387\u001b[0;31m         \u001b[0mself\u001b[0m\u001b[0;34m.\u001b[0m\u001b[0mattention\u001b[0m \u001b[0;34m=\u001b[0m \u001b[0mRobertaAttention\u001b[0m\u001b[0;34m(\u001b[0m\u001b[0mconfig\u001b[0m\u001b[0;34m)\u001b[0m\u001b[0;34m\u001b[0m\u001b[0;34m\u001b[0m\u001b[0m\n\u001b[0m\u001b[1;32m    388\u001b[0m         \u001b[0mself\u001b[0m\u001b[0;34m.\u001b[0m\u001b[0mis_decoder\u001b[0m \u001b[0;34m=\u001b[0m \u001b[0mconfig\u001b[0m\u001b[0;34m.\u001b[0m\u001b[0mis_decoder\u001b[0m\u001b[0;34m\u001b[0m\u001b[0;34m\u001b[0m\u001b[0m\n\u001b[1;32m    389\u001b[0m         \u001b[0mself\u001b[0m\u001b[0;34m.\u001b[0m\u001b[0madd_cross_attention\u001b[0m \u001b[0;34m=\u001b[0m \u001b[0mconfig\u001b[0m\u001b[0;34m.\u001b[0m\u001b[0madd_cross_attention\u001b[0m\u001b[0;34m\u001b[0m\u001b[0;34m\u001b[0m\u001b[0m\n",
      "\u001b[0;32m/opt/anaconda3/lib/python3.8/site-packages/transformers/models/roberta/modeling_roberta.py\u001b[0m in \u001b[0;36m__init__\u001b[0;34m(self, config, position_embedding_type)\u001b[0m\n\u001b[1;32m    302\u001b[0m     \u001b[0;32mdef\u001b[0m \u001b[0m__init__\u001b[0m\u001b[0;34m(\u001b[0m\u001b[0mself\u001b[0m\u001b[0;34m,\u001b[0m \u001b[0mconfig\u001b[0m\u001b[0;34m,\u001b[0m \u001b[0mposition_embedding_type\u001b[0m\u001b[0;34m=\u001b[0m\u001b[0;32mNone\u001b[0m\u001b[0;34m)\u001b[0m\u001b[0;34m:\u001b[0m\u001b[0;34m\u001b[0m\u001b[0;34m\u001b[0m\u001b[0m\n\u001b[1;32m    303\u001b[0m         \u001b[0msuper\u001b[0m\u001b[0;34m(\u001b[0m\u001b[0;34m)\u001b[0m\u001b[0;34m.\u001b[0m\u001b[0m__init__\u001b[0m\u001b[0;34m(\u001b[0m\u001b[0;34m)\u001b[0m\u001b[0;34m\u001b[0m\u001b[0;34m\u001b[0m\u001b[0m\n\u001b[0;32m--> 304\u001b[0;31m         \u001b[0mself\u001b[0m\u001b[0;34m.\u001b[0m\u001b[0mself\u001b[0m \u001b[0;34m=\u001b[0m \u001b[0mRobertaSelfAttention\u001b[0m\u001b[0;34m(\u001b[0m\u001b[0mconfig\u001b[0m\u001b[0;34m,\u001b[0m \u001b[0mposition_embedding_type\u001b[0m\u001b[0;34m=\u001b[0m\u001b[0mposition_embedding_type\u001b[0m\u001b[0;34m)\u001b[0m\u001b[0;34m\u001b[0m\u001b[0;34m\u001b[0m\u001b[0m\n\u001b[0m\u001b[1;32m    305\u001b[0m         \u001b[0mself\u001b[0m\u001b[0;34m.\u001b[0m\u001b[0moutput\u001b[0m \u001b[0;34m=\u001b[0m \u001b[0mRobertaSelfOutput\u001b[0m\u001b[0;34m(\u001b[0m\u001b[0mconfig\u001b[0m\u001b[0;34m)\u001b[0m\u001b[0;34m\u001b[0m\u001b[0;34m\u001b[0m\u001b[0m\n\u001b[1;32m    306\u001b[0m         \u001b[0mself\u001b[0m\u001b[0;34m.\u001b[0m\u001b[0mpruned_heads\u001b[0m \u001b[0;34m=\u001b[0m \u001b[0mset\u001b[0m\u001b[0;34m(\u001b[0m\u001b[0;34m)\u001b[0m\u001b[0;34m\u001b[0m\u001b[0;34m\u001b[0m\u001b[0m\n",
      "\u001b[0;32m/opt/anaconda3/lib/python3.8/site-packages/transformers/models/roberta/modeling_roberta.py\u001b[0m in \u001b[0;36m__init__\u001b[0;34m(self, config, position_embedding_type)\u001b[0m\n\u001b[1;32m    169\u001b[0m         \u001b[0mself\u001b[0m\u001b[0;34m.\u001b[0m\u001b[0mall_head_size\u001b[0m \u001b[0;34m=\u001b[0m \u001b[0mself\u001b[0m\u001b[0;34m.\u001b[0m\u001b[0mnum_attention_heads\u001b[0m \u001b[0;34m*\u001b[0m \u001b[0mself\u001b[0m\u001b[0;34m.\u001b[0m\u001b[0mattention_head_size\u001b[0m\u001b[0;34m\u001b[0m\u001b[0;34m\u001b[0m\u001b[0m\n\u001b[1;32m    170\u001b[0m \u001b[0;34m\u001b[0m\u001b[0m\n\u001b[0;32m--> 171\u001b[0;31m         \u001b[0mself\u001b[0m\u001b[0;34m.\u001b[0m\u001b[0mquery\u001b[0m \u001b[0;34m=\u001b[0m \u001b[0mnn\u001b[0m\u001b[0;34m.\u001b[0m\u001b[0mLinear\u001b[0m\u001b[0;34m(\u001b[0m\u001b[0mconfig\u001b[0m\u001b[0;34m.\u001b[0m\u001b[0mhidden_size\u001b[0m\u001b[0;34m,\u001b[0m \u001b[0mself\u001b[0m\u001b[0;34m.\u001b[0m\u001b[0mall_head_size\u001b[0m\u001b[0;34m)\u001b[0m\u001b[0;34m\u001b[0m\u001b[0;34m\u001b[0m\u001b[0m\n\u001b[0m\u001b[1;32m    172\u001b[0m         \u001b[0mself\u001b[0m\u001b[0;34m.\u001b[0m\u001b[0mkey\u001b[0m \u001b[0;34m=\u001b[0m \u001b[0mnn\u001b[0m\u001b[0;34m.\u001b[0m\u001b[0mLinear\u001b[0m\u001b[0;34m(\u001b[0m\u001b[0mconfig\u001b[0m\u001b[0;34m.\u001b[0m\u001b[0mhidden_size\u001b[0m\u001b[0;34m,\u001b[0m \u001b[0mself\u001b[0m\u001b[0;34m.\u001b[0m\u001b[0mall_head_size\u001b[0m\u001b[0;34m)\u001b[0m\u001b[0;34m\u001b[0m\u001b[0;34m\u001b[0m\u001b[0m\n\u001b[1;32m    173\u001b[0m         \u001b[0mself\u001b[0m\u001b[0;34m.\u001b[0m\u001b[0mvalue\u001b[0m \u001b[0;34m=\u001b[0m \u001b[0mnn\u001b[0m\u001b[0;34m.\u001b[0m\u001b[0mLinear\u001b[0m\u001b[0;34m(\u001b[0m\u001b[0mconfig\u001b[0m\u001b[0;34m.\u001b[0m\u001b[0mhidden_size\u001b[0m\u001b[0;34m,\u001b[0m \u001b[0mself\u001b[0m\u001b[0;34m.\u001b[0m\u001b[0mall_head_size\u001b[0m\u001b[0;34m)\u001b[0m\u001b[0;34m\u001b[0m\u001b[0;34m\u001b[0m\u001b[0m\n",
      "\u001b[0;32m/opt/anaconda3/lib/python3.8/site-packages/torch/nn/modules/linear.py\u001b[0m in \u001b[0;36m__init__\u001b[0;34m(self, in_features, out_features, bias, device, dtype)\u001b[0m\n\u001b[1;32m     96\u001b[0m         \u001b[0mself\u001b[0m\u001b[0;34m.\u001b[0m\u001b[0mweight\u001b[0m \u001b[0;34m=\u001b[0m \u001b[0mParameter\u001b[0m\u001b[0;34m(\u001b[0m\u001b[0mtorch\u001b[0m\u001b[0;34m.\u001b[0m\u001b[0mempty\u001b[0m\u001b[0;34m(\u001b[0m\u001b[0;34m(\u001b[0m\u001b[0mout_features\u001b[0m\u001b[0;34m,\u001b[0m \u001b[0min_features\u001b[0m\u001b[0;34m)\u001b[0m\u001b[0;34m,\u001b[0m \u001b[0;34m**\u001b[0m\u001b[0mfactory_kwargs\u001b[0m\u001b[0;34m)\u001b[0m\u001b[0;34m)\u001b[0m\u001b[0;34m\u001b[0m\u001b[0;34m\u001b[0m\u001b[0m\n\u001b[1;32m     97\u001b[0m         \u001b[0;32mif\u001b[0m \u001b[0mbias\u001b[0m\u001b[0;34m:\u001b[0m\u001b[0;34m\u001b[0m\u001b[0;34m\u001b[0m\u001b[0m\n\u001b[0;32m---> 98\u001b[0;31m             \u001b[0mself\u001b[0m\u001b[0;34m.\u001b[0m\u001b[0mbias\u001b[0m \u001b[0;34m=\u001b[0m \u001b[0mParameter\u001b[0m\u001b[0;34m(\u001b[0m\u001b[0mtorch\u001b[0m\u001b[0;34m.\u001b[0m\u001b[0mempty\u001b[0m\u001b[0;34m(\u001b[0m\u001b[0mout_features\u001b[0m\u001b[0;34m,\u001b[0m \u001b[0;34m**\u001b[0m\u001b[0mfactory_kwargs\u001b[0m\u001b[0;34m)\u001b[0m\u001b[0;34m)\u001b[0m\u001b[0;34m\u001b[0m\u001b[0;34m\u001b[0m\u001b[0m\n\u001b[0m\u001b[1;32m     99\u001b[0m         \u001b[0;32melse\u001b[0m\u001b[0;34m:\u001b[0m\u001b[0;34m\u001b[0m\u001b[0;34m\u001b[0m\u001b[0m\n\u001b[1;32m    100\u001b[0m             \u001b[0mself\u001b[0m\u001b[0;34m.\u001b[0m\u001b[0mregister_parameter\u001b[0m\u001b[0;34m(\u001b[0m\u001b[0;34m'bias'\u001b[0m\u001b[0;34m,\u001b[0m \u001b[0;32mNone\u001b[0m\u001b[0;34m)\u001b[0m\u001b[0;34m\u001b[0m\u001b[0;34m\u001b[0m\u001b[0m\n",
      "\u001b[0;32m/opt/anaconda3/lib/python3.8/site-packages/torch/nn/parameter.py\u001b[0m in \u001b[0;36m__new__\u001b[0;34m(cls, data, requires_grad)\u001b[0m\n\u001b[1;32m     35\u001b[0m             \u001b[0;31m# For ease of BC maintenance, keep this path for standard Tensor.\u001b[0m\u001b[0;34m\u001b[0m\u001b[0;34m\u001b[0m\u001b[0;34m\u001b[0m\u001b[0m\n\u001b[1;32m     36\u001b[0m             \u001b[0;31m# Eventually (tm), we should change the behavior for standard Tensor to match.\u001b[0m\u001b[0;34m\u001b[0m\u001b[0;34m\u001b[0m\u001b[0;34m\u001b[0m\u001b[0m\n\u001b[0;32m---> 37\u001b[0;31m             \u001b[0;32mreturn\u001b[0m \u001b[0mtorch\u001b[0m\u001b[0;34m.\u001b[0m\u001b[0mTensor\u001b[0m\u001b[0;34m.\u001b[0m\u001b[0m_make_subclass\u001b[0m\u001b[0;34m(\u001b[0m\u001b[0mcls\u001b[0m\u001b[0;34m,\u001b[0m \u001b[0mdata\u001b[0m\u001b[0;34m,\u001b[0m \u001b[0mrequires_grad\u001b[0m\u001b[0;34m)\u001b[0m\u001b[0;34m\u001b[0m\u001b[0;34m\u001b[0m\u001b[0m\n\u001b[0m\u001b[1;32m     38\u001b[0m \u001b[0;34m\u001b[0m\u001b[0m\n\u001b[1;32m     39\u001b[0m         \u001b[0;31m# Path for custom tensors: set a flag on the instance to indicate parameter-ness.\u001b[0m\u001b[0;34m\u001b[0m\u001b[0;34m\u001b[0m\u001b[0;34m\u001b[0m\u001b[0m\n",
      "\u001b[0;31mKeyboardInterrupt\u001b[0m: "
     ]
    }
   ],
   "source": [
    "sent_scores = []\n",
    "\n",
    "\n",
    "start = time.time()\n",
    "for i in data_cleaned:\n",
    "    \n",
    "    values = sentiment_func(i)\n",
    "    sent_scores.append(values)\n",
    "    \n",
    "end = time.time()\n",
    "print(\"total runtime:\", end-start)"
   ]
  },
  {
   "cell_type": "code",
   "execution_count": null,
   "id": "b7adb840",
   "metadata": {},
   "outputs": [],
   "source": []
  },
  {
   "cell_type": "code",
   "execution_count": null,
   "id": "03e161ae",
   "metadata": {},
   "outputs": [],
   "source": [
    "#0 -> Negative; 1 -> Neutral; 2 -> Positive\n",
    "\n",
    "names = ['Negative', 'Neutral', 'Positive']\n",
    "\n",
    "#create data frame\n",
    "sent_df = pd.DataFrame(np.concatenate(sent_scores), \n",
    "                       columns = names)\n",
    "\n",
    "#get predominate sentiment in a new column\n",
    "sent_df['Tweet Sentiment'] = names[np.argmax(sent_df, axis = 0)]\n",
    "\n",
    "\n",
    "#completed with sentiment \n",
    "complete_df = pd.concat([df1, sent_df], axis = 1)\n",
    "complete_df.head()\n",
    "    \n",
    "    "
   ]
  },
  {
   "cell_type": "code",
   "execution_count": null,
   "id": "209b2dc8",
   "metadata": {},
   "outputs": [],
   "source": [
    "# # Classify Tweets by the Types of Content they Have \n",
    "# import time \n",
    "\n",
    "# start = time.time()\n",
    "\n",
    "# sentiment = pipeline(\"sentiment-analysis\")\n",
    "# data = list(df1.loc[:,'Tweet'])\n",
    "# sentiment_values = sentiment(data_cleaned)\n",
    "\n",
    "# end = time.time()\n",
    "# print(\"total runtime:\", end-start)"
   ]
  },
  {
   "cell_type": "code",
   "execution_count": null,
   "id": "aea025dc",
   "metadata": {},
   "outputs": [],
   "source": [
    "# #Clean the Text Data to remove non-readable characters\n",
    "# from transformers import AutoTokenizer\n",
    "\n",
    "# tokens = AutoTokenizer.from_pretrained(\"distilbert-base-uncased\")\n",
    "\n",
    "# #cleaning function \n",
    "\n",
    "# def tokenize_func(vals):\n",
    "#     return tokens(vals['text'], truncation = True)\n",
    "\n"
   ]
  },
  {
   "cell_type": "code",
   "execution_count": null,
   "id": "931ff277",
   "metadata": {},
   "outputs": [],
   "source": [
    "#analysis\n",
    "# sentiment_values\n",
    "# sentiment_values = list(sentiment_values)"
   ]
  },
  {
   "cell_type": "code",
   "execution_count": null,
   "id": "db02cbfd",
   "metadata": {},
   "outputs": [],
   "source": [
    "# df1.drop(['Sentiment'], axis = 1)"
   ]
  },
  {
   "cell_type": "code",
   "execution_count": null,
   "id": "730cbd76",
   "metadata": {},
   "outputs": [],
   "source": [
    "# import re\n",
    "\n",
    "# sent_list = []\n",
    "# values_list = []\n",
    "\n",
    "# for i in sentiment_values:\n",
    "#     i = str(i)\n",
    "    \n",
    "#     #split to get values\n",
    "#     label = i.split(',')[0]\n",
    "#     score = i.split(',')[1]\n",
    "    \n",
    "#     #split again to specific things we need \n",
    "#     sent = label.split(':')[1]\n",
    "#     values = score.split(':')[1]\n",
    "    \n",
    "#     #get sentiment we need\n",
    "#     sent = re.search(\"'(.*)'\", sent)\n",
    "#     sent = sent.group(1).strip()\n",
    "    \n",
    "#     sent_list.append(sent)\n",
    "    \n",
    "    \n",
    "#     non_decimal = re.compile(r'[^\\d.]+')\n",
    "#     values = non_decimal.sub('',values)\n",
    "#     values = float(values)\n",
    "    \n",
    "#     values_list.append(values)\n",
    "    \n",
    "# values_list\n",
    "\n"
   ]
  },
  {
   "cell_type": "code",
   "execution_count": null,
   "id": "36e5bc09",
   "metadata": {},
   "outputs": [],
   "source": []
  },
  {
   "cell_type": "code",
   "execution_count": null,
   "id": "9326a249",
   "metadata": {},
   "outputs": [],
   "source": []
  }
 ],
 "metadata": {
  "@webio": {
   "lastCommId": null,
   "lastKernelId": null
  },
  "kernelspec": {
   "display_name": "Python 3",
   "language": "python",
   "name": "python3"
  },
  "language_info": {
   "codemirror_mode": {
    "name": "ipython",
    "version": 3
   },
   "file_extension": ".py",
   "mimetype": "text/x-python",
   "name": "python",
   "nbconvert_exporter": "python",
   "pygments_lexer": "ipython3",
   "version": "3.8.8"
  }
 },
 "nbformat": 4,
 "nbformat_minor": 5
}
