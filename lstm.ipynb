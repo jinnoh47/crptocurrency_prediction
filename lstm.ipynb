{
 "cells": [
  {
   "cell_type": "code",
   "execution_count": 1,
   "id": "f57a73ca",
   "metadata": {},
   "outputs": [
    {
     "name": "stderr",
     "output_type": "stream",
     "text": [
      "C:\\Anaconda\\envs\\data1030\\lib\\site-packages\\numpy\\_distributor_init.py:30: UserWarning: loaded more than 1 DLL from .libs:\n",
      "C:\\Anaconda\\envs\\data1030\\lib\\site-packages\\numpy\\.libs\\libopenblas.EL2C6PLE4ZYW3ECEVIV3OXXGRN2NRFM2.gfortran-win_amd64.dll\n",
      "C:\\Anaconda\\envs\\data1030\\lib\\site-packages\\numpy\\.libs\\libopenblas.FB5AE2TYXYH2IJRDKGDGQ3XBKLKTF43H.gfortran-win_amd64.dll\n",
      "  warnings.warn(\"loaded more than 1 DLL from .libs:\"\n"
     ]
    }
   ],
   "source": [
    "import numpy as np\n",
    "import pandas as pd\n",
    "import math\n",
    "import datetime\n",
    "import os\n",
    "import matplotlib.pyplot as plt\n",
    "import tensorflow as tf\n",
    "import sklearn\n",
    "import sklearn.preprocessing\n",
    "import tensorflow as tf\n",
    "from tensorflow import keras\n",
    "from tensorflow.keras.layers import Dense, LSTM, GRU, SimpleRNN, Dropout, BatchNormalization, Conv1D, MaxPooling1D, Flatten, Conv2D\n",
    "from tensorflow.keras.models import Sequential, Model\n"
   ]
  },
  {
   "cell_type": "code",
   "execution_count": 2,
   "id": "ec16f77a",
   "metadata": {},
   "outputs": [],
   "source": [
    "df = pd.read_csv(\"data/flattened_data.csv\", index_col = \"datetime\")"
   ]
  },
  {
   "cell_type": "code",
   "execution_count": 3,
   "id": "268ff0be",
   "metadata": {},
   "outputs": [
    {
     "data": {
      "text/plain": [
       "1INCHBUSD_open      float64\n",
       "1INCHBUSD_high      float64\n",
       "1INCHBUSD_low       float64\n",
       "1INCHBUSD_close     float64\n",
       "1INCHBUSD_volume    float64\n",
       "                     ...   \n",
       "ZRXUSD_open         float64\n",
       "ZRXUSD_high         float64\n",
       "ZRXUSD_low          float64\n",
       "ZRXUSD_close        float64\n",
       "ZRXUSD_volume       float64\n",
       "Length: 1955, dtype: object"
      ]
     },
     "execution_count": 3,
     "metadata": {},
     "output_type": "execute_result"
    }
   ],
   "source": [
    "df.dtypes"
   ]
  },
  {
   "cell_type": "code",
   "execution_count": 4,
   "id": "207a6770",
   "metadata": {},
   "outputs": [
    {
     "name": "stdout",
     "output_type": "stream",
     "text": [
      "(3624, 1955)\n",
      "(3624, 391)\n",
      "391\n"
     ]
    }
   ],
   "source": [
    "# check if market bearish\n",
    "df2 = df.copy()\n",
    "print(df.shape)\n",
    "ilist = []\n",
    "for i in range(len(df.columns)):\n",
    "    if i%5!=3:\n",
    "        ilist.append(i)\n",
    "df2 = df2.drop(df.columns[ilist],axis = 1)\n",
    "print(df2.shape)\n",
    "price_list = df2.iloc[0]\n",
    "print(len(price_list))"
   ]
  },
  {
   "cell_type": "code",
   "execution_count": 5,
   "id": "e8ea51fa",
   "metadata": {},
   "outputs": [
    {
     "data": {
      "text/plain": [
       "<bound method NDFrame.head of       1INCHBUSD_open  1INCHBUSD_high  1INCHBUSD_low  1INCHBUSD_close  \\\n",
       "0              2.410           2.450          2.406            2.429   \n",
       "1              2.434           2.441          2.421            2.424   \n",
       "2              2.423           2.444          2.418            2.434   \n",
       "3              2.433           2.449          2.433            2.435   \n",
       "4              2.436           2.454          2.415            2.428   \n",
       "...              ...             ...            ...              ...   \n",
       "3619           0.967           0.972          0.953            0.964   \n",
       "3620           0.963           0.965          0.960            0.965   \n",
       "3621           0.964           0.964          0.958            0.961   \n",
       "3622           0.960           0.966          0.953            0.965   \n",
       "3623           0.965           0.981          0.961            0.978   \n",
       "\n",
       "      1INCHBUSD_volume  1INCHUSD_open  1INCHUSD_high  1INCHUSD_low  \\\n",
       "0              27034.1          2.390          2.420         2.390   \n",
       "1              15641.5          2.420          2.440         2.410   \n",
       "2              10500.5          2.430          2.450         2.430   \n",
       "3              11621.9          2.430          2.450         2.430   \n",
       "4              18122.9          2.420          2.430         2.400   \n",
       "...                ...            ...            ...           ...   \n",
       "3619           62571.4          0.966          0.972         0.966   \n",
       "3620           19140.8          0.969          0.970         0.966   \n",
       "3621           15210.7          0.969          0.970         0.967   \n",
       "3622           35818.9          0.967          0.971         0.967   \n",
       "3623           27142.4          0.972          0.972         0.966   \n",
       "\n",
       "      1INCHUSD_close  1INCHUSD_volume  ...  ZRXBUSD_open  ZRXBUSD_high  \\\n",
       "0              2.420         47726.30  ...        0.8225        0.8375   \n",
       "1              2.440        109643.15  ...        0.8367        0.8367   \n",
       "2              2.440         22534.85  ...        0.8249        0.8305   \n",
       "3              2.430         16066.99  ...        0.8310        0.8327   \n",
       "4              2.400         35143.16  ...        0.8262        0.8326   \n",
       "...              ...              ...  ...           ...           ...   \n",
       "3619           0.969         34241.32  ...        0.4214        0.4370   \n",
       "3620           0.968          5846.26  ...        0.4270        0.4432   \n",
       "3621           0.969          5068.87  ...        0.4295        0.4445   \n",
       "3622           0.971           786.32  ...        0.4385        0.4395   \n",
       "3623           0.967         10317.00  ...        0.4289        0.4363   \n",
       "\n",
       "      ZRXBUSD_low  ZRXBUSD_close  ZRXBUSD_volume  ZRXUSD_open  ZRXUSD_high  \\\n",
       "0          0.8225         0.8349          2957.0     0.803274     0.815819   \n",
       "1          0.8262         0.8262          7690.0     0.815761     0.818488   \n",
       "2          0.8249         0.8296          1352.0     0.817332     0.841967   \n",
       "3          0.8271         0.8271          5814.0     0.825479     0.826189   \n",
       "4          0.8239         0.8326          4731.0     0.822383     0.824401   \n",
       "...           ...            ...             ...          ...          ...   \n",
       "3619       0.4193         0.4309        118348.0     0.415042     0.417221   \n",
       "3620       0.4252         0.4308        148208.0     0.414923     0.421796   \n",
       "3621       0.4295         0.4410        149321.0     0.421837     0.421837   \n",
       "3622       0.4250         0.4289        105858.0     0.417112     0.421681   \n",
       "3623       0.4231         0.4324        135402.0     0.420771     0.423000   \n",
       "\n",
       "      ZRXUSD_low  ZRXUSD_close  ZRXUSD_volume  \n",
       "0       0.803274      0.815819   124094.48027  \n",
       "1       0.812232      0.816939   430003.38704  \n",
       "2       0.816370      0.825341   545121.67633  \n",
       "3       0.819242      0.821205   174704.12975  \n",
       "4       0.814999      0.821184   109516.28991  \n",
       "...          ...           ...            ...  \n",
       "3619    0.412115      0.414259   146124.40386  \n",
       "3620    0.414923      0.421796    48940.19297  \n",
       "3621    0.416822      0.417250    35316.14544  \n",
       "3622    0.416555      0.420949    34868.68387  \n",
       "3623    0.417373      0.420407    78304.47144  \n",
       "\n",
       "[3624 rows x 1955 columns]>"
      ]
     },
     "execution_count": 5,
     "metadata": {},
     "output_type": "execute_result"
    }
   ],
   "source": [
    "# Normalize the data ¯\\_(ツ)_/¯\n",
    "x = df.values #returns a numpy array\n",
    "df = pd.DataFrame(x, columns = df.columns)\n",
    "df.head"
   ]
  },
  {
   "cell_type": "code",
   "execution_count": 6,
   "id": "f9241719",
   "metadata": {},
   "outputs": [
    {
     "name": "stdout",
     "output_type": "stream",
     "text": [
      "Training set shape: (2537, 1955)\n",
      "Validation set shape: (544, 1955)\n",
      "Test data set: (543, 1955)\n",
      "Training set shape (2201, 336, 1955) (2201, 1955)\n",
      "Validation set shape (208, 336, 1955) (208, 1955)\n",
      "Testing set shape (207, 336, 1955) (207, 1955)\n",
      "(3624, 1955)\n"
     ]
    }
   ],
   "source": [
    "\n",
    "## split the dataset into 70:15:15\n",
    "last_15 = sorted(df.index.values)[-int(0.15*len(df))] # Last 15% indices\n",
    "last_30 = sorted(df.index.values)[-int(0.3*len(df))] \n",
    "\n",
    "train_data = df[(df.index < last_30)].values\n",
    "val_data = df[(df.index >= last_30) & (df.index < last_15)].values\n",
    "test_data = df[(df.index >= last_15)].values\n",
    "\n",
    "print('Training set shape: {}'.format(train_data.shape))\n",
    "print('Validation set shape: {}'.format(val_data.shape))\n",
    "print('Test data set: {}'.format(test_data.shape))\n",
    "# standardize the dataset\n",
    "scaler = sklearn.preprocessing.MinMaxScaler()\n",
    "train_data = scaler.fit_transform(train_data)\n",
    "val_data = scaler.transform(val_data)\n",
    "test_data = scaler.transform(test_data)\n",
    "# reshape the data with to window size\n",
    "seq_len = 336 #30\n",
    "\n",
    "def reshape_data(seq_len, data):\n",
    "    X, y = [], []\n",
    "    for i in range(seq_len, len(data)):\n",
    "        X.append(data[i-seq_len:i])\n",
    "        y.append(data[:][i])\n",
    "    X, y = np.array(X), np.array(y)\n",
    "    return X, y\n",
    "\n",
    "x_train, y_train = reshape_data(seq_len, train_data)\n",
    "x_val, y_val = reshape_data(seq_len, val_data)\n",
    "x_test, y_test = reshape_data(seq_len, test_data)\n",
    "\n",
    "print('Training set shape', x_train.shape, y_train.shape)\n",
    "print('Validation set shape', x_val.shape, y_val.shape)\n",
    "print('Testing set shape' ,x_test.shape, y_test.shape)\n",
    "print(df.shape)\n"
   ]
  },
  {
   "cell_type": "code",
   "execution_count": 7,
   "id": "521d767c",
   "metadata": {},
   "outputs": [
    {
     "name": "stdout",
     "output_type": "stream",
     "text": [
      "x_train.shape =  (2201, 336, 1955)\n",
      "y_train.shape =  (2201, 1955)\n",
      "x_valid.shape =  (208, 336, 1955)\n",
      "y_valid.shape =  (208, 1955)\n",
      "x_test.shape =  (207, 336, 1955)\n",
      "y_test.shape =  (207, 1955)\n"
     ]
    }
   ],
   "source": [
    "n_steps_in = seq_len# Same as sequence length\n",
    "n_steps_out = 1\n",
    "# [samples, timesteps, features]\n",
    "print('x_train.shape = ',x_train.shape)\n",
    "print('y_train.shape = ', y_train.shape)\n",
    "print('x_valid.shape = ',x_val.shape)\n",
    "print('y_valid.shape = ', y_val.shape)\n",
    "print('x_test.shape = ', x_test.shape)\n",
    "print('y_test.shape = ',y_test.shape)\n",
    "n_features = x_train.shape[2]"
   ]
  },
  {
   "cell_type": "code",
   "execution_count": 8,
   "id": "a98cff15",
   "metadata": {},
   "outputs": [
    {
     "name": "stdout",
     "output_type": "stream",
     "text": [
      "(207, 1955)\n",
      "(207, 391)\n",
      "(207, 391)\n",
      "176747.30788388048\n"
     ]
    }
   ],
   "source": [
    "profit = 0\n",
    "x_test_last = x_test[:, -1, :]\n",
    "\n",
    "print(x_test_last.shape)\n",
    "x_test_last_close = []\n",
    "y_test_close = []\n",
    "y_test_pred_close = []\n",
    "for i in range(x_test_last.shape[1]):\n",
    "    if i%5 ==3:\n",
    "        x_test_last_close.append(x_test_last[:,i])\n",
    "        y_test_close.append(y_test[:,i])\n",
    "        # y_test_pred_close.append(y_test_pred[:,i])\n",
    "x_test_last_close = np.transpose(np.array(x_test_last_close))\n",
    "y_test_close = np.transpose(np.array(y_test_close))\n",
    "# y_test_pred_close = np.transpose(np.array(y_test_pred_close))\n",
    "print(x_test_last_close.shape)\n",
    "print(y_test_close.shape)\n",
    "# print(y_test_pred_close.shape)\n",
    "\n",
    "loss_money = 0\n",
    "profit_money = 0\n",
    "for i in range(x_test_last_close.shape[0]):\n",
    "    for j in range(x_test_last_close.shape[1]):\n",
    "        if x_test_last_close[i,j] != 0:\n",
    "            profit = profit - 1000 + 1000*(y_test_close[i, j]/x_test_last_close[i,j])\n",
    "print(profit)\n"
   ]
  },
  {
   "cell_type": "code",
   "execution_count": 11,
   "id": "ec618223-d099-42be-8ba9-b03f0b9f879f",
   "metadata": {},
   "outputs": [],
   "source": [
    "seq_len = 30 # choose sequence length\n",
    "batch_size = 32\n",
    "epoch = 10\n",
    "verbose = 1\n",
    "dropout_ratio = 0"
   ]
  },
  {
   "cell_type": "code",
   "execution_count": 16,
   "id": "3fe41ea8-938a-42fc-925f-a0a1497db042",
   "metadata": {},
   "outputs": [
    {
     "name": "stdout",
     "output_type": "stream",
     "text": [
      "X_train.shape (2201, 336, 1955)\n",
      "y_train.shape (2201, 1955)\n",
      "X_valid.shape (208, 336, 1955)\n",
      "y_valid.shape (208, 1955)\n",
      "X_test.shape (207, 336, 1955)\n",
      "y_test.shape (207, 1955)\n"
     ]
    }
   ],
   "source": [
    "# [samples, timesteps, features]\n",
    "print('X_train.shape',x_train.shape)\n",
    "print('y_train.shape', y_train.shape)\n",
    "print('X_valid.shape',x_val.shape)\n",
    "print('y_valid.shape', y_val.shape)\n",
    "print('X_test.shape', x_test.shape)\n",
    "print('y_test.shape',y_test.shape)\n",
    "n_features = x_train.shape[2]"
   ]
  },
  {
   "cell_type": "code",
   "execution_count": 22,
   "id": "60996add-2a0b-47cc-8646-98f8796e84c7",
   "metadata": {},
   "outputs": [
    {
     "name": "stdout",
     "output_type": "stream",
     "text": [
      "WARNING:tensorflow:Layer lstm_4 will not use cuDNN kernels since it doesn't meet the criteria. It will use a generic GPU kernel as fallback when running on GPU.\n",
      "Model: \"sequential_5\"\n",
      "_________________________________________________________________\n",
      " Layer (type)                Output Shape              Param #   \n",
      "=================================================================\n",
      " lstm_4 (LSTM)               (None, 64)                517120    \n",
      "                                                                 \n",
      " dropout_4 (Dropout)         (None, 64)                0         \n",
      "                                                                 \n",
      " dense_4 (Dense)             (None, 1955)              127075    \n",
      "                                                                 \n",
      "=================================================================\n",
      "Total params: 644,195\n",
      "Trainable params: 644,195\n",
      "Non-trainable params: 0\n",
      "_________________________________________________________________\n"
     ]
    }
   ],
   "source": [
    "model = Sequential()\n",
    "model.add(LSTM(64, activation='relu', input_shape=(x_train.shape[1], x_train.shape[2])))\n",
    "model.add(Dropout(dropout_ratio))\n",
    "model.add(Dense(n_steps_out*n_features))\n",
    "model.compile(optimizer='adam', loss='mean_squared_error')\n",
    "model.summary()\n"
   ]
  },
  {
   "cell_type": "code",
   "execution_count": 24,
   "id": "a5c23db2-2d07-4289-abeb-4c2aa1853ac1",
   "metadata": {},
   "outputs": [
    {
     "name": "stdout",
     "output_type": "stream",
     "text": [
      "Train on 2201 samples, validate on 208 samples\n",
      "Epoch 1/10\n",
      "2201/2201 [==============================] - 25s 11ms/sample - loss: 0.0373 - val_loss: 0.0332\n",
      "Epoch 2/10\n",
      "2201/2201 [==============================] - 24s 11ms/sample - loss: 0.0090 - val_loss: 0.0235\n",
      "Epoch 3/10\n",
      "2201/2201 [==============================] - 24s 11ms/sample - loss: 0.0068 - val_loss: 0.0221\n",
      "Epoch 4/10\n",
      "2201/2201 [==============================] - 23s 11ms/sample - loss: 0.0053 - val_loss: 0.0215\n",
      "Epoch 5/10\n",
      "2201/2201 [==============================] - 24s 11ms/sample - loss: 0.0048 - val_loss: 0.0220\n",
      "Epoch 6/10\n",
      "2201/2201 [==============================] - 24s 11ms/sample - loss: 0.0043 - val_loss: 0.0218\n",
      "Epoch 7/10\n",
      "2201/2201 [==============================] - 24s 11ms/sample - loss: 0.0041 - val_loss: 0.0214\n",
      "Epoch 8/10\n",
      "2201/2201 [==============================] - 24s 11ms/sample - loss: 0.0038 - val_loss: 0.0216\n",
      "Epoch 9/10\n",
      "2201/2201 [==============================] - 24s 11ms/sample - loss: 0.0036 - val_loss: 0.0216\n",
      "Epoch 10/10\n",
      "2201/2201 [==============================] - 24s 11ms/sample - loss: 0.0034 - val_loss: 0.0210\n"
     ]
    }
   ],
   "source": [
    "model_fit = model.fit(x_train, y_train, \n",
    "                    batch_size=batch_size, \n",
    "                    epochs=epoch,\n",
    "                    validation_data=(x_val, y_val),\n",
    "                    verbose=1)"
   ]
  },
  {
   "cell_type": "code",
   "execution_count": 25,
   "id": "b97c0c69",
   "metadata": {},
   "outputs": [
    {
     "data": {
      "image/png": "[encoded data removed]",
      "text/plain": [
       "<Figure size 432x288 with 1 Axes>"
      ]
     },
     "metadata": {
      "needs_background": "light"
     },
     "output_type": "display_data"
    },
    {
     "data": {
      "text/plain": [
       "<Figure size 432x288 with 0 Axes>"
      ]
     },
     "metadata": {},
     "output_type": "display_data"
    }
   ],
   "source": [
    "plt.yscale('log')\n",
    "loss = model_fit.history['loss']\n",
    "val_loss = model_fit.history['val_loss']\n",
    "epochs = range(len(loss))\n",
    "plt.plot(epochs, loss, 'r', label='Training loss')\n",
    "plt.plot(epochs, val_loss, 'b', label='Validation loss')\n",
    "plt.title('Training and validation loss')\n",
    "plt.legend(loc=0)\n",
    "plt.figure()\n",
    "plt.show()"
   ]
  },
  {
   "cell_type": "code",
   "execution_count": 26,
   "id": "1b2aa46c",
   "metadata": {},
   "outputs": [
    {
     "data": {
      "text/plain": [
       "5.123106381860021e+16"
      ]
     },
     "execution_count": 26,
     "metadata": {},
     "output_type": "execute_result"
    }
   ],
   "source": [
    "model.evaluate(x_test, y_test, batch_size=batch_size, verbose=0)"
   ]
  },
  {
   "cell_type": "code",
   "execution_count": 29,
   "id": "7658a49c",
   "metadata": {},
   "outputs": [],
   "source": [
    "y_test.shape\n",
    "y_test_pred= model.predict(x_test)"
   ]
  },
  {
   "cell_type": "code",
   "execution_count": 30,
   "id": "f5405fe3",
   "metadata": {},
   "outputs": [
    {
     "data": {
      "text/plain": [
       "(207, 1955)"
      ]
     },
     "execution_count": 30,
     "metadata": {},
     "output_type": "execute_result"
    }
   ],
   "source": [
    "y_test_pred.shape"
   ]
  },
  {
   "cell_type": "code",
   "execution_count": 32,
   "id": "1a9c4783-e742-49c3-a4f1-93608ac49ff7",
   "metadata": {},
   "outputs": [],
   "source": [
    "x_test_last = x_test[:, 28, :]\n",
    "y_true_change = []\n",
    "y_pred_change = []\n",
    "for i in range(y_test.shape[1]):\n",
    "    temp_true_change = []\n",
    "    temp_pred_change = []\n",
    "    for j in range(y_test.shape[0]):\n",
    "        temp_true_change.append(y_test[j,i]-x_test_last[j,i])\n",
    "        temp_pred_change.append(y_test_pred[j,i]-x_test_last[j,i])\n",
    "    y_true_change.append(temp_true_change)\n",
    "    y_pred_change.append(temp_pred_change)\n",
    "y_true_change = np.array(y_true_change)\n",
    "y_pred_change = np.array(y_pred_change)"
   ]
  },
  {
   "cell_type": "code",
   "execution_count": 33,
   "id": "7a9d6214-fa23-4118-9d33-95bb576ff3f1",
   "metadata": {},
   "outputs": [
    {
     "name": "stdout",
     "output_type": "stream",
     "text": [
      "0.4966776628735928\n"
     ]
    }
   ],
   "source": [
    "sgn_change = []\n",
    "for i in range(y_pred_change.shape[1]):\n",
    "    # append average accuracy of sign equality\n",
    "    s = 0\n",
    "    for j in range(y_pred_change.shape[0]):\n",
    "        if ((y_true_change[j, i]*y_pred_change[j, i]) >= 0):\n",
    "        #currently ignoring where no change predicted or seen\n",
    "            s = s+1\n",
    "    sgn_change.append(s/y_pred_change.shape[0])\n",
    "print(sum(sgn_change)/len(sgn_change))"
   ]
  },
  {
   "cell_type": "code",
   "execution_count": 34,
   "id": "adf79119-4ad0-4f9a-8f7e-1f64f04da12b",
   "metadata": {},
   "outputs": [],
   "source": [
    "from sklearn.metrics import r2_score\n",
    "r2_array = []\n",
    "for i in range(y_test.shape[1]):\n",
    "    r2_array.append(r2_score(np.array(y_test[:, i]), np.array(y_test_pred[:, i])))"
   ]
  },
  {
   "cell_type": "code",
   "execution_count": 43,
   "id": "7cf52407-82f1-470c-b86f-cac37c79ce4c",
   "metadata": {},
   "outputs": [
    {
     "name": "stdout",
     "output_type": "stream",
     "text": [
      "mean value of the r2 array: -1.5680408080312068e+21\n",
      "median value of the r2 array: -2.8467896605809234e+19\n"
     ]
    }
   ],
   "source": [
    "print('mean value of the r2 array:', np.mean(r2_array))\n",
    "print('median value of the r2 array:', np.median(r2_array))"
   ]
  },
  {
   "cell_type": "code",
   "execution_count": 35,
   "id": "980e45d8-7c37-40d1-9b27-129ffe573c08",
   "metadata": {},
   "outputs": [
    {
     "name": "stdout",
     "output_type": "stream",
     "text": [
      "-2.8467896605809234e+19\n"
     ]
    }
   ],
   "source": [
    "import statistics\n",
    "print(statistics.median(r2_array))"
   ]
  }
 ],
 "metadata": {
  "kernelspec": {
   "display_name": "Python 3 (ipykernel)",
   "language": "python",
   "name": "python3"
  },
  "language_info": {
   "codemirror_mode": {
    "name": "ipython",
    "version": 3
   },
   "file_extension": ".py",
   "mimetype": "text/x-python",
   "name": "python",
   "nbconvert_exporter": "python",
   "pygments_lexer": "ipython3",
   "version": "3.9.7"
  }
 },
 "nbformat": 4,
 "nbformat_minor": 5
}
