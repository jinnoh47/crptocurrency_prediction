{
 "cells": [
  {
   "cell_type": "code",
   "execution_count": 1,
   "metadata": {},
   "outputs": [],
   "source": [
    "import numpy as np\n",
    "import pandas as pd\n",
    "import math\n",
    "import datetime\n",
    "import os\n",
    "import matplotlib.pyplot as plt\n"
   ]
  },
  {
   "cell_type": "code",
   "execution_count": 2,
   "metadata": {},
   "outputs": [],
   "source": [
    "import tensorflow as tf"
   ]
  },
  {
   "cell_type": "code",
   "execution_count": 3,
   "metadata": {},
   "outputs": [],
   "source": [
    "import sklearn\n",
    "import sklearn.preprocessing"
   ]
  },
  {
   "cell_type": "code",
   "execution_count": 4,
   "metadata": {},
   "outputs": [],
   "source": [
    "df = pd.read_csv(\"data/flattened_data.csv\", index_col = \"datetime\")\n"
   ]
  },
  {
   "cell_type": "code",
   "execution_count": 5,
   "metadata": {},
   "outputs": [
    {
     "data": {
      "text/html": [
       "<div>\n",
       "<style scoped>\n",
       "    .dataframe tbody tr th:only-of-type {\n",
       "        vertical-align: middle;\n",
       "    }\n",
       "\n",
       "    .dataframe tbody tr th {\n",
       "        vertical-align: top;\n",
       "    }\n",
       "\n",
       "    .dataframe thead th {\n",
       "        text-align: right;\n",
       "    }\n",
       "</style>\n",
       "<table border=\"1\" class=\"dataframe\">\n",
       "  <thead>\n",
       "    <tr style=\"text-align: right;\">\n",
       "      <th></th>\n",
       "      <th>1INCHBUSD_open</th>\n",
       "      <th>1INCHBUSD_high</th>\n",
       "      <th>1INCHBUSD_low</th>\n",
       "      <th>1INCHBUSD_close</th>\n",
       "      <th>1INCHBUSD_volume</th>\n",
       "      <th>1INCHUSD_open</th>\n",
       "      <th>1INCHUSD_high</th>\n",
       "      <th>1INCHUSD_low</th>\n",
       "      <th>1INCHUSD_close</th>\n",
       "      <th>1INCHUSD_volume</th>\n",
       "      <th>...</th>\n",
       "      <th>ZRXBUSD_open</th>\n",
       "      <th>ZRXBUSD_high</th>\n",
       "      <th>ZRXBUSD_low</th>\n",
       "      <th>ZRXBUSD_close</th>\n",
       "      <th>ZRXBUSD_volume</th>\n",
       "      <th>ZRXUSD_open</th>\n",
       "      <th>ZRXUSD_high</th>\n",
       "      <th>ZRXUSD_low</th>\n",
       "      <th>ZRXUSD_close</th>\n",
       "      <th>ZRXUSD_volume</th>\n",
       "    </tr>\n",
       "    <tr>\n",
       "      <th>datetime</th>\n",
       "      <th></th>\n",
       "      <th></th>\n",
       "      <th></th>\n",
       "      <th></th>\n",
       "      <th></th>\n",
       "      <th></th>\n",
       "      <th></th>\n",
       "      <th></th>\n",
       "      <th></th>\n",
       "      <th></th>\n",
       "      <th></th>\n",
       "      <th></th>\n",
       "      <th></th>\n",
       "      <th></th>\n",
       "      <th></th>\n",
       "      <th></th>\n",
       "      <th></th>\n",
       "      <th></th>\n",
       "      <th></th>\n",
       "      <th></th>\n",
       "      <th></th>\n",
       "    </tr>\n",
       "  </thead>\n",
       "  <tbody>\n",
       "    <tr>\n",
       "      <th>2022-01-01 00:00:00</th>\n",
       "      <td>2.410</td>\n",
       "      <td>2.450</td>\n",
       "      <td>2.406</td>\n",
       "      <td>2.429</td>\n",
       "      <td>27034.1</td>\n",
       "      <td>2.39</td>\n",
       "      <td>2.42</td>\n",
       "      <td>2.39</td>\n",
       "      <td>2.42</td>\n",
       "      <td>47726.30</td>\n",
       "      <td>...</td>\n",
       "      <td>0.8225</td>\n",
       "      <td>0.8375</td>\n",
       "      <td>0.8225</td>\n",
       "      <td>0.8349</td>\n",
       "      <td>2957.0</td>\n",
       "      <td>0.803274</td>\n",
       "      <td>0.815819</td>\n",
       "      <td>0.803274</td>\n",
       "      <td>0.815819</td>\n",
       "      <td>124094.48027</td>\n",
       "    </tr>\n",
       "    <tr>\n",
       "      <th>2022-01-01 01:00:00</th>\n",
       "      <td>2.434</td>\n",
       "      <td>2.441</td>\n",
       "      <td>2.421</td>\n",
       "      <td>2.424</td>\n",
       "      <td>15641.5</td>\n",
       "      <td>2.42</td>\n",
       "      <td>2.44</td>\n",
       "      <td>2.41</td>\n",
       "      <td>2.44</td>\n",
       "      <td>109643.15</td>\n",
       "      <td>...</td>\n",
       "      <td>0.8367</td>\n",
       "      <td>0.8367</td>\n",
       "      <td>0.8262</td>\n",
       "      <td>0.8262</td>\n",
       "      <td>7690.0</td>\n",
       "      <td>0.815761</td>\n",
       "      <td>0.818488</td>\n",
       "      <td>0.812232</td>\n",
       "      <td>0.816939</td>\n",
       "      <td>430003.38704</td>\n",
       "    </tr>\n",
       "    <tr>\n",
       "      <th>2022-01-01 02:00:00</th>\n",
       "      <td>2.423</td>\n",
       "      <td>2.444</td>\n",
       "      <td>2.418</td>\n",
       "      <td>2.434</td>\n",
       "      <td>10500.5</td>\n",
       "      <td>2.43</td>\n",
       "      <td>2.45</td>\n",
       "      <td>2.43</td>\n",
       "      <td>2.44</td>\n",
       "      <td>22534.85</td>\n",
       "      <td>...</td>\n",
       "      <td>0.8249</td>\n",
       "      <td>0.8305</td>\n",
       "      <td>0.8249</td>\n",
       "      <td>0.8296</td>\n",
       "      <td>1352.0</td>\n",
       "      <td>0.817332</td>\n",
       "      <td>0.841967</td>\n",
       "      <td>0.816370</td>\n",
       "      <td>0.825341</td>\n",
       "      <td>545121.67633</td>\n",
       "    </tr>\n",
       "    <tr>\n",
       "      <th>2022-01-01 03:00:00</th>\n",
       "      <td>2.433</td>\n",
       "      <td>2.449</td>\n",
       "      <td>2.433</td>\n",
       "      <td>2.435</td>\n",
       "      <td>11621.9</td>\n",
       "      <td>2.43</td>\n",
       "      <td>2.45</td>\n",
       "      <td>2.43</td>\n",
       "      <td>2.43</td>\n",
       "      <td>16066.99</td>\n",
       "      <td>...</td>\n",
       "      <td>0.8310</td>\n",
       "      <td>0.8327</td>\n",
       "      <td>0.8271</td>\n",
       "      <td>0.8271</td>\n",
       "      <td>5814.0</td>\n",
       "      <td>0.825479</td>\n",
       "      <td>0.826189</td>\n",
       "      <td>0.819242</td>\n",
       "      <td>0.821205</td>\n",
       "      <td>174704.12975</td>\n",
       "    </tr>\n",
       "    <tr>\n",
       "      <th>2022-01-01 04:00:00</th>\n",
       "      <td>2.436</td>\n",
       "      <td>2.454</td>\n",
       "      <td>2.415</td>\n",
       "      <td>2.428</td>\n",
       "      <td>18122.9</td>\n",
       "      <td>2.42</td>\n",
       "      <td>2.43</td>\n",
       "      <td>2.40</td>\n",
       "      <td>2.40</td>\n",
       "      <td>35143.16</td>\n",
       "      <td>...</td>\n",
       "      <td>0.8262</td>\n",
       "      <td>0.8326</td>\n",
       "      <td>0.8239</td>\n",
       "      <td>0.8326</td>\n",
       "      <td>4731.0</td>\n",
       "      <td>0.822383</td>\n",
       "      <td>0.824401</td>\n",
       "      <td>0.814999</td>\n",
       "      <td>0.821184</td>\n",
       "      <td>109516.28991</td>\n",
       "    </tr>\n",
       "  </tbody>\n",
       "</table>\n",
       "<p>5 rows × 1955 columns</p>\n",
       "</div>"
      ],
      "text/plain": [
       "                     1INCHBUSD_open  1INCHBUSD_high  1INCHBUSD_low  \\\n",
       "datetime                                                             \n",
       "2022-01-01 00:00:00           2.410           2.450          2.406   \n",
       "2022-01-01 01:00:00           2.434           2.441          2.421   \n",
       "2022-01-01 02:00:00           2.423           2.444          2.418   \n",
       "2022-01-01 03:00:00           2.433           2.449          2.433   \n",
       "2022-01-01 04:00:00           2.436           2.454          2.415   \n",
       "\n",
       "                     1INCHBUSD_close  1INCHBUSD_volume  1INCHUSD_open  \\\n",
       "datetime                                                                \n",
       "2022-01-01 00:00:00            2.429           27034.1           2.39   \n",
       "2022-01-01 01:00:00            2.424           15641.5           2.42   \n",
       "2022-01-01 02:00:00            2.434           10500.5           2.43   \n",
       "2022-01-01 03:00:00            2.435           11621.9           2.43   \n",
       "2022-01-01 04:00:00            2.428           18122.9           2.42   \n",
       "\n",
       "                     1INCHUSD_high  1INCHUSD_low  1INCHUSD_close  \\\n",
       "datetime                                                           \n",
       "2022-01-01 00:00:00           2.42          2.39            2.42   \n",
       "2022-01-01 01:00:00           2.44          2.41            2.44   \n",
       "2022-01-01 02:00:00           2.45          2.43            2.44   \n",
       "2022-01-01 03:00:00           2.45          2.43            2.43   \n",
       "2022-01-01 04:00:00           2.43          2.40            2.40   \n",
       "\n",
       "                     1INCHUSD_volume  ...  ZRXBUSD_open  ZRXBUSD_high  \\\n",
       "datetime                              ...                               \n",
       "2022-01-01 00:00:00         47726.30  ...        0.8225        0.8375   \n",
       "2022-01-01 01:00:00        109643.15  ...        0.8367        0.8367   \n",
       "2022-01-01 02:00:00         22534.85  ...        0.8249        0.8305   \n",
       "2022-01-01 03:00:00         16066.99  ...        0.8310        0.8327   \n",
       "2022-01-01 04:00:00         35143.16  ...        0.8262        0.8326   \n",
       "\n",
       "                     ZRXBUSD_low  ZRXBUSD_close  ZRXBUSD_volume  ZRXUSD_open  \\\n",
       "datetime                                                                       \n",
       "2022-01-01 00:00:00       0.8225         0.8349          2957.0     0.803274   \n",
       "2022-01-01 01:00:00       0.8262         0.8262          7690.0     0.815761   \n",
       "2022-01-01 02:00:00       0.8249         0.8296          1352.0     0.817332   \n",
       "2022-01-01 03:00:00       0.8271         0.8271          5814.0     0.825479   \n",
       "2022-01-01 04:00:00       0.8239         0.8326          4731.0     0.822383   \n",
       "\n",
       "                     ZRXUSD_high  ZRXUSD_low  ZRXUSD_close  ZRXUSD_volume  \n",
       "datetime                                                                   \n",
       "2022-01-01 00:00:00     0.815819    0.803274      0.815819   124094.48027  \n",
       "2022-01-01 01:00:00     0.818488    0.812232      0.816939   430003.38704  \n",
       "2022-01-01 02:00:00     0.841967    0.816370      0.825341   545121.67633  \n",
       "2022-01-01 03:00:00     0.826189    0.819242      0.821205   174704.12975  \n",
       "2022-01-01 04:00:00     0.824401    0.814999      0.821184   109516.28991  \n",
       "\n",
       "[5 rows x 1955 columns]"
      ]
     },
     "execution_count": 5,
     "metadata": {},
     "output_type": "execute_result"
    }
   ],
   "source": [
    "df.head()"
   ]
  },
  {
   "cell_type": "code",
   "execution_count": 6,
   "metadata": {},
   "outputs": [
    {
     "name": "stdout",
     "output_type": "stream",
     "text": [
      "(3624, 1955)\n",
      "(3624, 391)\n",
      "391\n"
     ]
    }
   ],
   "source": [
    "# check if market bearish\n",
    "df2 = df.copy()\n",
    "print(df.shape)\n",
    "ilist = []\n",
    "for i in range(len(df.columns)):\n",
    "    if i%5!=3:\n",
    "        ilist.append(i)\n",
    "df2 = df2.drop(df.columns[ilist],axis = 1)\n",
    "print(df2.shape)\n",
    "price_list = df2.iloc[0]\n",
    "print(len(price_list))"
   ]
  },
  {
   "cell_type": "code",
   "execution_count": 9,
   "metadata": {},
   "outputs": [],
   "source": [
    "# plt.plot(df2[\"mean\"], color='magenta', marker='o',mfc='pink' ) #plot the data\n",
    "# plt.xticks(range(0,len(df2[\"mean\"])+1, 1)) #set the tick frequency on x-axis\n",
    "\n",
    "# plt.ylabel('data') #set the label for y axis\n",
    "# plt.xlabel('index') #set the label for x-axis\n",
    "# plt.title(\"Plotting a list\") #set the title of the graph\n",
    "# plt.show() #display the graph"
   ]
  },
  {
   "cell_type": "code",
   "execution_count": 141,
   "metadata": {},
   "outputs": [],
   "source": [
    "import tensorflow as tf\n",
    "from tensorflow import keras\n",
    "from tensorflow.keras.layers import Dense, LSTM, GRU, SimpleRNN, Dropout, BatchNormalization, Conv1D, MaxPooling1D, Flatten, Conv2D\n",
    "from tensorflow.keras.models import Sequential, Model\n"
   ]
  },
  {
   "cell_type": "code",
   "execution_count": 8,
   "metadata": {},
   "outputs": [
    {
     "data": {
      "text/plain": [
       "<bound method NDFrame.head of       1INCHBUSD_open  1INCHBUSD_high  1INCHBUSD_low  1INCHBUSD_close  \\\n",
       "0              2.410           2.450          2.406            2.429   \n",
       "1              2.434           2.441          2.421            2.424   \n",
       "2              2.423           2.444          2.418            2.434   \n",
       "3              2.433           2.449          2.433            2.435   \n",
       "4              2.436           2.454          2.415            2.428   \n",
       "...              ...             ...            ...              ...   \n",
       "3619           0.967           0.972          0.953            0.964   \n",
       "3620           0.963           0.965          0.960            0.965   \n",
       "3621           0.964           0.964          0.958            0.961   \n",
       "3622           0.960           0.966          0.953            0.965   \n",
       "3623           0.965           0.981          0.961            0.978   \n",
       "\n",
       "      1INCHBUSD_volume  1INCHUSD_open  1INCHUSD_high  1INCHUSD_low  \\\n",
       "0              27034.1          2.390          2.420         2.390   \n",
       "1              15641.5          2.420          2.440         2.410   \n",
       "2              10500.5          2.430          2.450         2.430   \n",
       "3              11621.9          2.430          2.450         2.430   \n",
       "4              18122.9          2.420          2.430         2.400   \n",
       "...                ...            ...            ...           ...   \n",
       "3619           62571.4          0.966          0.972         0.966   \n",
       "3620           19140.8          0.969          0.970         0.966   \n",
       "3621           15210.7          0.969          0.970         0.967   \n",
       "3622           35818.9          0.967          0.971         0.967   \n",
       "3623           27142.4          0.972          0.972         0.966   \n",
       "\n",
       "      1INCHUSD_close  1INCHUSD_volume  ...  ZRXBUSD_open  ZRXBUSD_high  \\\n",
       "0              2.420         47726.30  ...        0.8225        0.8375   \n",
       "1              2.440        109643.15  ...        0.8367        0.8367   \n",
       "2              2.440         22534.85  ...        0.8249        0.8305   \n",
       "3              2.430         16066.99  ...        0.8310        0.8327   \n",
       "4              2.400         35143.16  ...        0.8262        0.8326   \n",
       "...              ...              ...  ...           ...           ...   \n",
       "3619           0.969         34241.32  ...        0.4214        0.4370   \n",
       "3620           0.968          5846.26  ...        0.4270        0.4432   \n",
       "3621           0.969          5068.87  ...        0.4295        0.4445   \n",
       "3622           0.971           786.32  ...        0.4385        0.4395   \n",
       "3623           0.967         10317.00  ...        0.4289        0.4363   \n",
       "\n",
       "      ZRXBUSD_low  ZRXBUSD_close  ZRXBUSD_volume  ZRXUSD_open  ZRXUSD_high  \\\n",
       "0          0.8225         0.8349          2957.0     0.803274     0.815819   \n",
       "1          0.8262         0.8262          7690.0     0.815761     0.818488   \n",
       "2          0.8249         0.8296          1352.0     0.817332     0.841967   \n",
       "3          0.8271         0.8271          5814.0     0.825479     0.826189   \n",
       "4          0.8239         0.8326          4731.0     0.822383     0.824401   \n",
       "...           ...            ...             ...          ...          ...   \n",
       "3619       0.4193         0.4309        118348.0     0.415042     0.417221   \n",
       "3620       0.4252         0.4308        148208.0     0.414923     0.421796   \n",
       "3621       0.4295         0.4410        149321.0     0.421837     0.421837   \n",
       "3622       0.4250         0.4289        105858.0     0.417112     0.421681   \n",
       "3623       0.4231         0.4324        135402.0     0.420771     0.423000   \n",
       "\n",
       "      ZRXUSD_low  ZRXUSD_close  ZRXUSD_volume  \n",
       "0       0.803274      0.815819   124094.48027  \n",
       "1       0.812232      0.816939   430003.38704  \n",
       "2       0.816370      0.825341   545121.67633  \n",
       "3       0.819242      0.821205   174704.12975  \n",
       "4       0.814999      0.821184   109516.28991  \n",
       "...          ...           ...            ...  \n",
       "3619    0.412115      0.414259   146124.40386  \n",
       "3620    0.414923      0.421796    48940.19297  \n",
       "3621    0.416822      0.417250    35316.14544  \n",
       "3622    0.416555      0.420949    34868.68387  \n",
       "3623    0.417373      0.420407    78304.47144  \n",
       "\n",
       "[3624 rows x 1955 columns]>"
      ]
     },
     "execution_count": 8,
     "metadata": {},
     "output_type": "execute_result"
    }
   ],
   "source": [
    "# Normalize the data ¯\\_(ツ)_/¯\n",
    "x = df.values #returns a numpy array\n",
    "df = pd.DataFrame(x, columns = df.columns)\n",
    "df.head"
   ]
  },
  {
   "cell_type": "code",
   "execution_count": 21,
   "metadata": {},
   "outputs": [],
   "source": [
    "# # Test train split\n",
    "# valid_set_size_percentage = 15\n",
    "# test_set_size_percentage = 15\n",
    "\n",
    "\n",
    "# def split_data(data, seq_len):\n",
    "#     data_raw = data.values # convert to numpy array\n",
    "#     data = []\n",
    "    \n",
    "#     # create all possible sequences of length seq_len\n",
    "#     for index in range(len(data_raw) - seq_len): \n",
    "#         data.append(data_raw[index: index + seq_len])\n",
    "    \n",
    "    \n",
    "#     data = np.array(data)\n",
    "#     print(data.shape)\n",
    "#     valid_set_size = int(np.round(valid_set_size_percentage/100*data.shape[0]))\n",
    "#     test_set_size = int(np.round(test_set_size_percentage/100*data.shape[0]))\n",
    "#     train_set_size = data.shape[0] - (valid_set_size + test_set_size)\n",
    "    \n",
    "#     x_train = data[:train_set_size,:-1,:]\n",
    "#     y_train = data[:train_set_size,-1,:]\n",
    "    \n",
    "#     x_valid = data[train_set_size:train_set_size+valid_set_size,:-1,:]\n",
    "#     y_valid = data[train_set_size:train_set_size+valid_set_size,-1,:]\n",
    "    \n",
    "#     x_test = data[train_set_size+valid_set_size:,:-1,:]\n",
    "#     y_test = data[train_set_size+valid_set_size:,-1,:]\n",
    "    \n",
    "#     return [x_train, y_train, x_valid, y_valid, x_test, y_test]\n"
   ]
  },
  {
   "cell_type": "code",
   "execution_count": 214,
   "metadata": {},
   "outputs": [
    {
     "name": "stdout",
     "output_type": "stream",
     "text": [
      "Training set shape: (2537, 1955)\n",
      "Validation set shape: (544, 1955)\n",
      "Test data set: (543, 1955)\n",
      "Training set shape (2201, 336, 1955) (2201, 1955)\n",
      "Validation set shape (208, 336, 1955) (208, 1955)\n",
      "Testing set shape (207, 336, 1955) (207, 1955)\n",
      "(3624, 1955)\n"
     ]
    }
   ],
   "source": [
    "\n",
    "## split the dataset into 70:15:15\n",
    "last_15 = sorted(df.index.values)[-int(0.15*len(df))] # Last 15% indices\n",
    "last_30 = sorted(df.index.values)[-int(0.3*len(df))] \n",
    "\n",
    "train_data = df[(df.index < last_30)].values\n",
    "val_data = df[(df.index >= last_30) & (df.index < last_15)].values\n",
    "test_data = df[(df.index >= last_15)].values\n",
    "\n",
    "print('Training set shape: {}'.format(train_data.shape))\n",
    "print('Validation set shape: {}'.format(val_data.shape))\n",
    "print('Test data set: {}'.format(test_data.shape))\n",
    "# standardize the dataset\n",
    "scaler = sklearn.preprocessing.MinMaxScaler()\n",
    "train_data = scaler.fit_transform(train_data)\n",
    "val_data = scaler.transform(val_data)\n",
    "test_data = scaler.transform(test_data)\n",
    "# reshape the data with to window size\n",
    "seq_len = 336 #30\n",
    "\n",
    "def reshape_data(seq_len, data):\n",
    "    X, y = [], []\n",
    "    for i in range(seq_len, len(data)):\n",
    "        X.append(data[i-seq_len:i])\n",
    "        y.append(data[:][i])\n",
    "    X, y = np.array(X), np.array(y)\n",
    "    return X, y\n",
    "\n",
    "x_train, y_train = reshape_data(seq_len, train_data)\n",
    "x_val, y_val = reshape_data(seq_len, val_data)\n",
    "x_test, y_test = reshape_data(seq_len, test_data)\n",
    "\n",
    "print('Training set shape', x_train.shape, y_train.shape)\n",
    "print('Validation set shape', x_val.shape, y_val.shape)\n",
    "print('Testing set shape' ,x_test.shape, y_test.shape)\n",
    "print(df.shape)\n"
   ]
  },
  {
   "cell_type": "code",
   "execution_count": 215,
   "metadata": {},
   "outputs": [
    {
     "name": "stdout",
     "output_type": "stream",
     "text": [
      "x_train.shape =  (2201, 336, 1955)\n",
      "y_train.shape =  (2201, 1955)\n",
      "x_valid.shape =  (208, 336, 1955)\n",
      "y_valid.shape =  (208, 1955)\n",
      "x_test.shape =  (207, 336, 1955)\n",
      "y_test.shape =  (207, 1955)\n"
     ]
    }
   ],
   "source": [
    "n_steps_in = seq_len# Same as sequence length\n",
    "n_steps_out = 1\n",
    "# [samples, timesteps, features]\n",
    "print('x_train.shape = ',x_train.shape)\n",
    "print('y_train.shape = ', y_train.shape)\n",
    "print('x_valid.shape = ',x_val.shape)\n",
    "print('y_valid.shape = ', y_val.shape)\n",
    "print('x_test.shape = ', x_test.shape)\n",
    "print('y_test.shape = ',y_test.shape)\n",
    "n_features = x_train.shape[2]\n",
    "\n"
   ]
  },
  {
   "cell_type": "code",
   "execution_count": 217,
   "metadata": {},
   "outputs": [
    {
     "name": "stdout",
     "output_type": "stream",
     "text": [
      "(207, 1955)\n",
      "(207, 391)\n",
      "(207, 391)\n",
      "176747.30788388048\n"
     ]
    }
   ],
   "source": [
    "profit = 0\n",
    "x_test_last = x_test[:, -1, :]\n",
    "\n",
    "print(x_test_last.shape)\n",
    "x_test_last_close = []\n",
    "y_test_close = []\n",
    "y_test_pred_close = []\n",
    "for i in range(x_test_last.shape[1]):\n",
    "    if i%5 ==3:\n",
    "        x_test_last_close.append(x_test_last[:,i])\n",
    "        y_test_close.append(y_test[:,i])\n",
    "        # y_test_pred_close.append(y_test_pred[:,i])\n",
    "x_test_last_close = np.transpose(np.array(x_test_last_close))\n",
    "y_test_close = np.transpose(np.array(y_test_close))\n",
    "# y_test_pred_close = np.transpose(np.array(y_test_pred_close))\n",
    "print(x_test_last_close.shape)\n",
    "print(y_test_close.shape)\n",
    "# print(y_test_pred_close.shape)\n",
    "\n",
    "loss_money = 0\n",
    "profit_money = 0\n",
    "for i in range(x_test_last_close.shape[0]):\n",
    "    for j in range(x_test_last_close.shape[1]):\n",
    "        if x_test_last_close[i,j] != 0:\n",
    "            profit = profit - 1000 + 1000*(y_test_close[i, j]/x_test_last_close[i,j])\n",
    "print(profit)\n"
   ]
  },
  {
   "cell_type": "code",
   "execution_count": 218,
   "metadata": {},
   "outputs": [
    {
     "name": "stdout",
     "output_type": "stream",
     "text": [
      "Model: \"sequential_33\"\n",
      "_________________________________________________________________\n",
      " Layer (type)                Output Shape              Param #   \n",
      "=================================================================\n",
      " gru_49 (GRU)                (None, 336, 100)          617100    \n",
      "                                                                 \n",
      " gru_50 (GRU)                (None, 336, 100)          60600     \n",
      "                                                                 \n",
      " dropout_32 (Dropout)        (None, 336, 100)          0         \n",
      "                                                                 \n",
      " gru_51 (GRU)                (None, 256)               274944    \n",
      "                                                                 \n",
      " dense_22 (Dense)            (None, 1955)              502435    \n",
      "                                                                 \n",
      "=================================================================\n",
      "Total params: 1,455,079\n",
      "Trainable params: 1,455,079\n",
      "Non-trainable params: 0\n",
      "_________________________________________________________________\n"
     ]
    }
   ],
   "source": [
    "model = Sequential()\n",
    "\n",
    "# two layer model, known to work well\n",
    "model.add(GRU(100, activation='relu', return_sequences=True, input_shape=(n_steps_in, n_features)))\n",
    "model.add(GRU(100, activation='relu', return_sequences=True))\n",
    "model.add(Dropout(0.2))\n",
    "model.add(GRU(256, activation='relu', input_shape=(n_steps_in, n_features)))\n",
    "\n",
    "# trains faster, but also works\n",
    "# model.add(GRU(256, activation='relu', input_shape=(n_steps_in, n_features)))\n",
    "\n",
    "# one layer SimpleRNN seems to be enough for this data set\n",
    "# model.add(SimpleRNN(n_steps_out*n_features, activation='relu', input_shape=(n_steps_in, n_features)))\n",
    "\n",
    "# CNN\n",
    "# Incredibly **** results\n",
    "# model.add(Conv1D(filters=256, kernel_size=2, padding='same', activation='relu',\n",
    "#                          input_shape=(n_steps_in, n_features)))\n",
    "# model.add(Dropout(0.2))\n",
    "# model.add(Conv1D(filters=256, kernel_size=4, padding='same', activation='relu',\n",
    "#                          input_shape=(n_steps_in, n_features)))\n",
    "# model.add(MaxPooling1D(pool_size=2))\n",
    "# model.add(Flatten())\n",
    "\n",
    "# optional regularization\n",
    "# model.add(BatchNormalization())\n",
    "# model.add(Dropout(0.2))\n",
    "\n",
    "\n",
    "# combines final outputs from RNN into continous output\n",
    "model.add(Dense(n_steps_out*n_features))\n",
    "# model.add(tf.keras.layers.Reshape((n_steps_out, n_features)))\n",
    "model.compile(optimizer='adam', loss='mse')\n",
    "\n",
    "model.summary()"
   ]
  },
  {
   "cell_type": "code",
   "execution_count": 219,
   "metadata": {},
   "outputs": [
    {
     "name": "stdout",
     "output_type": "stream",
     "text": [
      "Epoch 1/6\n",
      "69/69 [==============================] - 80s 1s/step - loss: 0.0187 - val_loss: 0.0278\n",
      "Epoch 2/6\n",
      "69/69 [==============================] - 73s 1s/step - loss: 0.0050 - val_loss: 0.0252\n",
      "Epoch 3/6\n",
      "69/69 [==============================] - 75s 1s/step - loss: 0.0033 - val_loss: 0.0249\n",
      "Epoch 4/6\n",
      "69/69 [==============================] - 75s 1s/step - loss: 0.0028 - val_loss: 0.0249\n",
      "Epoch 5/6\n",
      "69/69 [==============================] - 75s 1s/step - loss: 0.0025 - val_loss: 0.0249\n",
      "Epoch 6/6\n",
      "69/69 [==============================] - 79s 1s/step - loss: 0.0023 - val_loss: 0.0263\n"
     ]
    }
   ],
   "source": [
    "batch_size = 32\n",
    "epochs=6 #25\n",
    "\n",
    "history = model.fit(x_train, y_train, \n",
    "                    batch_size=batch_size, \n",
    "                    epochs=epochs,\n",
    "                    validation_data=(x_val, y_val),\n",
    "                    verbose=1)"
   ]
  },
  {
   "cell_type": "code",
   "execution_count": 220,
   "metadata": {},
   "outputs": [
    {
     "data": {
      "text/plain": [
       "<matplotlib.legend.Legend at 0x15e2cd1f0>"
      ]
     },
     "execution_count": 220,
     "metadata": {},
     "output_type": "execute_result"
    },
    {
     "data": {
      "image/png": "[encoded data removed]",
      "text/plain": [
       "<Figure size 432x288 with 1 Axes>"
      ]
     },
     "metadata": {
      "needs_background": "light"
     },
     "output_type": "display_data"
    }
   ],
   "source": [
    "plt.yscale('log')\n",
    "plt.plot(history.history['loss'])\n",
    "\n",
    "plt.plot(history.history['val_loss'])\n",
    "plt.title('Log Loss over Epochs')\n",
    "\n",
    "plt.legend(['loss', 'validation loss'])"
   ]
  },
  {
   "cell_type": "code",
   "execution_count": 221,
   "metadata": {},
   "outputs": [
    {
     "data": {
      "text/plain": [
       "0.9994982481002808"
      ]
     },
     "execution_count": 221,
     "metadata": {},
     "output_type": "execute_result"
    }
   ],
   "source": [
    "model.evaluate(x_test, y_test, batch_size=batch_size, verbose=0)"
   ]
  },
  {
   "cell_type": "code",
   "execution_count": 222,
   "metadata": {},
   "outputs": [],
   "source": [
    "from sklearn.metrics import r2_score\n",
    "\n",
    "y_train_pred = model.predict(x_train)\n",
    "y_test_pred = model.predict(x_test)\n"
   ]
  },
  {
   "cell_type": "code",
   "execution_count": 223,
   "metadata": {},
   "outputs": [
    {
     "name": "stdout",
     "output_type": "stream",
     "text": [
      "(207, 1955)\n"
     ]
    },
    {
     "data": {
      "text/plain": [
       "(207, 1955)"
      ]
     },
     "execution_count": 223,
     "metadata": {},
     "output_type": "execute_result"
    }
   ],
   "source": [
    "print(y_test.shape)\n",
    "y_test.shape"
   ]
  },
  {
   "cell_type": "code",
   "execution_count": 224,
   "metadata": {},
   "outputs": [
    {
     "name": "stdout",
     "output_type": "stream",
     "text": [
      "[207]\n"
     ]
    }
   ],
   "source": [
    "test = y_test[:,1]\n",
    "print(np.array(test.shape))\n"
   ]
  },
  {
   "cell_type": "code",
   "execution_count": 225,
   "metadata": {},
   "outputs": [],
   "source": [
    "from sklearn.metrics import r2_score\n",
    "r2_array = []\n",
    "for i in range(y_test.shape[1]):\n",
    "    r2_array.append(r2_score(np.array(y_test[:, i]), np.array(y_test_pred[:, i])))"
   ]
  },
  {
   "cell_type": "code",
   "execution_count": 226,
   "metadata": {},
   "outputs": [
    {
     "name": "stdout",
     "output_type": "stream",
     "text": [
      "-6724.780128374904\n",
      "-891.782532896508\n"
     ]
    }
   ],
   "source": [
    "import statistics\n",
    "print(sum(r2_array)/len(r2_array))\n",
    "print(statistics.median(r2_array))"
   ]
  },
  {
   "cell_type": "code",
   "execution_count": 227,
   "metadata": {},
   "outputs": [
    {
     "name": "stdout",
     "output_type": "stream",
     "text": [
      "1955\n"
     ]
    },
    {
     "data": {
      "image/png": "[encoded data removed]",
      "text/plain": [
       "<Figure size 432x288 with 1 Axes>"
      ]
     },
     "metadata": {
      "needs_background": "light"
     },
     "output_type": "display_data"
    }
   ],
   "source": [
    "plt.hist(r2_array, bins = 1000, range=[-1, 1])\n",
    "print(len(r2_array))"
   ]
  },
  {
   "cell_type": "code",
   "execution_count": 228,
   "metadata": {},
   "outputs": [],
   "source": [
    "r2_no_volume = []\n",
    "for i in range(len(r2_array)):\n",
    "    if i%5:\n",
    "        r2_no_volume.append(r2_array[i])"
   ]
  },
  {
   "cell_type": "code",
   "execution_count": 229,
   "metadata": {},
   "outputs": [
    {
     "data": {
      "image/png": "[encoded data removed]",
      "text/plain": [
       "<Figure size 432x288 with 1 Axes>"
      ]
     },
     "metadata": {
      "needs_background": "light"
     },
     "output_type": "display_data"
    }
   ],
   "source": [
    "plt.hist(r2_no_volume, bins = 100, range=[-1, 1])\n",
    "plt.show()"
   ]
  },
  {
   "cell_type": "code",
   "execution_count": 230,
   "metadata": {},
   "outputs": [
    {
     "name": "stdout",
     "output_type": "stream",
     "text": [
      "(207, 336, 1955)\n",
      "(207, 1955)\n"
     ]
    }
   ],
   "source": [
    "print(x_test.shape)\n",
    "x_test_last = x_test[:, -1, :]\n",
    "print(x_test_last.shape)"
   ]
  },
  {
   "cell_type": "code",
   "execution_count": 231,
   "metadata": {},
   "outputs": [],
   "source": [
    "# sign change accuracy\n",
    "y_true_change = []\n",
    "y_pred_change = []\n",
    "for i in range(y_test.shape[1]):\n",
    "    temp_true_change = []\n",
    "    temp_pred_change = []\n",
    "    for j in range(y_test.shape[0]):\n",
    "        temp_true_change.append(y_test[j,i]-x_test_last[j,i])\n",
    "        temp_pred_change.append(y_test_pred[j,i]-x_test_last[j,i])\n",
    "    y_true_change.append(temp_true_change)\n",
    "    y_pred_change.append(temp_pred_change)\n",
    "y_true_change = np.array(y_true_change)\n",
    "y_pred_change = np.array(y_pred_change)\n"
   ]
  },
  {
   "cell_type": "code",
   "execution_count": 232,
   "metadata": {},
   "outputs": [
    {
     "data": {
      "text/plain": [
       "(1955, 207)"
      ]
     },
     "execution_count": 232,
     "metadata": {},
     "output_type": "execute_result"
    }
   ],
   "source": [
    "y_pred_change.shape\n",
    "# currency_x_feature, timestep"
   ]
  },
  {
   "cell_type": "code",
   "execution_count": 233,
   "metadata": {},
   "outputs": [
    {
     "name": "stdout",
     "output_type": "stream",
     "text": [
      "0.5261895054177939\n"
     ]
    }
   ],
   "source": [
    "sgn_change = []\n",
    "for i in range(y_pred_change.shape[1]):\n",
    "    # append average accuracy of sign equality\n",
    "    s = 0\n",
    "    for j in range(y_pred_change.shape[0]):\n",
    "        if ((y_true_change[j, i]*y_pred_change[j, i]) >= 0):\n",
    "        #currently ignoring where no change predicted or seen\n",
    "            s = s+1\n",
    "    sgn_change.append(s/y_pred_change.shape[0])\n",
    "print(sum(sgn_change)/len(sgn_change))"
   ]
  },
  {
   "cell_type": "code",
   "execution_count": 234,
   "metadata": {},
   "outputs": [],
   "source": [
    "y_pred_change_close = []\n",
    "y_true_change_close = []\n",
    "for i in range(y_pred_change.shape[0]):\n",
    "    if (i%5==3):\n",
    "        y_pred_change_close.append(y_pred_change[i,:])\n",
    "        y_true_change_close.append(y_true_change[i,:])\n",
    "y_pred_change_close = np.array(y_pred_change_close)\n",
    "y_true_change_close = np.array(y_true_change_close)"
   ]
  },
  {
   "cell_type": "code",
   "execution_count": 235,
   "metadata": {},
   "outputs": [],
   "source": [
    "r2_only_close = []\n",
    "for i in range(len(r2_array)):\n",
    "    if i%5==3:\n",
    "        r2_only_close.append(r2_array[i])"
   ]
  },
  {
   "cell_type": "code",
   "execution_count": 236,
   "metadata": {},
   "outputs": [
    {
     "name": "stdout",
     "output_type": "stream",
     "text": [
      "0.5243040883650243\n"
     ]
    }
   ],
   "source": [
    "sgn_change_close = []\n",
    "for i in range(y_pred_change_close.shape[1]):\n",
    "    # append average accuracy of sign equality\n",
    "    s = 0\n",
    "    for j in range(y_pred_change_close.shape[0]):\n",
    "        if ((y_true_change_close[j, i]*y_pred_change_close[j, i]) >= 0):\n",
    "        #currently ignoring where no change predicted or seen\n",
    "            s = s+1\n",
    "    sgn_change.append(s/y_pred_change_close.shape[0])\n",
    "print(sum(sgn_change)/len(sgn_change))"
   ]
  },
  {
   "cell_type": "code",
   "execution_count": 237,
   "metadata": {},
   "outputs": [
    {
     "data": {
      "image/png": "[encoded data removed]",
      "text/plain": [
       "<Figure size 432x288 with 1 Axes>"
      ]
     },
     "metadata": {
      "needs_background": "light"
     },
     "output_type": "display_data"
    }
   ],
   "source": [
    "plt.hist(r2_only_close, bins = 10, range=[-1, 1])\n",
    "plt.show()"
   ]
  },
  {
   "cell_type": "code",
   "execution_count": 238,
   "metadata": {},
   "outputs": [
    {
     "name": "stdout",
     "output_type": "stream",
     "text": [
      "0.0\n"
     ]
    }
   ],
   "source": [
    "# These r2 scores are poop.\n",
    "perc_r2 = 0\n",
    "for i in range(len(r2_only_close)):\n",
    "    if r2_only_close[i]>0:\n",
    "        perc_r2 = perc_r2 +1 \n",
    "print(perc_r2/len(r2_only_close))\n",
    "# <10% of the time we actually get \"good\" r2 scores.\n",
    "# Most of the time, we are horrible."
   ]
  },
  {
   "cell_type": "code",
   "execution_count": 239,
   "metadata": {},
   "outputs": [],
   "source": [
    "# TODO, look at the tickers where we have higher r2 score, whats so special about them compared to the ones where we don't\n",
    "# TODO, scatter for true/pred (?)\n",
    "# TODO, automate hyperparameter tuning"
   ]
  },
  {
   "cell_type": "code",
   "execution_count": 240,
   "metadata": {},
   "outputs": [
    {
     "name": "stdout",
     "output_type": "stream",
     "text": [
      "(207, 1955)\n",
      "(207, 391)\n",
      "(207, 391)\n",
      "(207, 391)\n"
     ]
    }
   ],
   "source": [
    "# TODO, trading decisions - profit\n",
    "print(x_test_last.shape)\n",
    "x_test_last_close = []\n",
    "y_test_close = []\n",
    "y_test_pred_close = []\n",
    "for i in range(x_test_last.shape[1]):\n",
    "    if i%5 ==3:\n",
    "        x_test_last_close.append(x_test_last[:,i])\n",
    "        y_test_close.append(y_test[:,i])\n",
    "        y_test_pred_close.append(y_test_pred[:,i])\n",
    "x_test_last_close = np.transpose(np.array(x_test_last_close))\n",
    "y_test_close = np.transpose(np.array(y_test_close))\n",
    "y_test_pred_close = np.transpose(np.array(y_test_pred_close))\n",
    "print(x_test_last_close.shape)\n",
    "print(y_test_close.shape)\n",
    "print(y_test_pred_close.shape)"
   ]
  },
  {
   "cell_type": "code",
   "execution_count": 241,
   "metadata": {},
   "outputs": [
    {
     "name": "stdout",
     "output_type": "stream",
     "text": [
      "176747.30788388048\n"
     ]
    }
   ],
   "source": [
    "profit = 0\n",
    "for i in range(x_test_last_close.shape[0]):\n",
    "    for j in range(x_test_last_close.shape[1]):\n",
    "        if x_test_last_close[i,j] != 0:\n",
    "            profit = profit - 1000 + 1000*(y_test_close[i, j]/x_test_last_close[i,j])\n",
    "print(profit)"
   ]
  },
  {
   "cell_type": "code",
   "execution_count": 242,
   "metadata": {},
   "outputs": [
    {
     "name": "stdout",
     "output_type": "stream",
     "text": [
      "162742.7282008189\n"
     ]
    }
   ],
   "source": [
    "profit_model = 0 \n",
    "for i in range(x_test_last_close.shape[0]):\n",
    "    for j in range(x_test_last_close.shape[1]):\n",
    "        if x_test_last_close[i,j] != 0 and y_test_pred_close[i, j] > x_test_last_close[i, j]:\n",
    "                profit_model = profit_model - 1000 + 1000*(y_test_close[i, j]/x_test_last_close[i,j])\n",
    "print(profit_model)\n"
   ]
  },
  {
   "cell_type": "code",
   "execution_count": 243,
   "metadata": {},
   "outputs": [
    {
     "name": "stdout",
     "output_type": "stream",
     "text": [
      "404223\n"
     ]
    },
    {
     "data": {
      "text/plain": [
       "(207, 1955)"
      ]
     },
     "execution_count": 243,
     "metadata": {},
     "output_type": "execute_result"
    }
   ],
   "source": [
    "print(np.count_nonzero(x_test_last))\n",
    "x_test_last.shape\n",
    "# TODO see how there are 0 value close on coins."
   ]
  },
  {
   "cell_type": "code",
   "execution_count": 179,
   "metadata": {},
   "outputs": [
    {
     "name": "stdout",
     "output_type": "stream",
     "text": [
      "4793.183599894157\n"
     ]
    }
   ],
   "source": [
    "# Account for shorting, hard to make money in a bearish market, you make the difference scaled to\n",
    "# 1000 if you predict correctly. Lose the same amount if you wrong\n",
    "# Base profit -\n",
    "from random import random\n",
    "profit_array = []\n",
    "for i in range(100):\n",
    "    profit = 0\n",
    "    for i in range(x_test_last_close.shape[0]):\n",
    "        for j in range(x_test_last_close.shape[1]):\n",
    "            if x_test_last_close[i,j] != 0:\n",
    "                if random() > 0.5:\n",
    "                    profit = profit - 1000 + 1000*(y_test_close[i, j]/x_test_last_close[i,j])\n",
    "                else:\n",
    "                    profit = profit + 1000 - 1000*(y_test_close[i, j]/x_test_last_close[i,j])\n",
    "    profit_array.append(profit)\n",
    "print(np.mean(profit_array))\n",
    "\n",
    "# since we're using random, this can vary widely, average over 100 runs\n"
   ]
  },
  {
   "cell_type": "code",
   "execution_count": 244,
   "metadata": {},
   "outputs": [
    {
     "data": {
      "image/png": "[encoded data removed]",
      "text/plain": [
       "<Figure size 432x288 with 1 Axes>"
      ]
     },
     "metadata": {
      "needs_background": "light"
     },
     "output_type": "display_data"
    }
   ],
   "source": [
    "plt.hist(profit_array, bins = 50)\n",
    "plt.show()"
   ]
  },
  {
   "cell_type": "code",
   "execution_count": 245,
   "metadata": {},
   "outputs": [
    {
     "name": "stdout",
     "output_type": "stream",
     "text": [
      "148738.1485177587\n"
     ]
    }
   ],
   "source": [
    "profit_model = 0 \n",
    "for i in range(x_test_last_close.shape[0]):\n",
    "    for j in range(x_test_last_close.shape[1]):\n",
    "        if x_test_last_close[i,j] != 0:\n",
    "            if y_test_pred_close[i, j] > x_test_last_close[i, j]:\n",
    "                profit_model = profit_model - 1000 + 1000*(y_test_close[i, j]/x_test_last_close[i,j])\n",
    "            else:\n",
    "                profit_model = profit_model + 1000 - 1000*(y_test_close[i, j]/x_test_last_close[i,j])\n",
    "print(profit_model)"
   ]
  },
  {
   "cell_type": "code",
   "execution_count": null,
   "metadata": {},
   "outputs": [],
   "source": [
    "#TODO model confidence, layer the transformer"
   ]
  }
 ],
 "metadata": {
  "interpreter": {
   "hash": "6b073d3b79de3f491e81d79079d8554611281488ad9a90da89cd78b37212741b"
  },
  "kernelspec": {
   "display_name": "Python 3.9.5 ('crypto-prediction-env': venv)",
   "language": "python",
   "name": "python3"
  },
  "language_info": {
   "codemirror_mode": {
    "name": "ipython",
    "version": 3
   },
   "file_extension": ".py",
   "mimetype": "text/x-python",
   "name": "python",
   "nbconvert_exporter": "python",
   "pygments_lexer": "ipython3",
   "version": "3.9.13"
  },
  "orig_nbformat": 4
 },
 "nbformat": 4,
 "nbformat_minor": 2
}
